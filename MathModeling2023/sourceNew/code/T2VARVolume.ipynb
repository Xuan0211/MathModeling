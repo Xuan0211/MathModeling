{
 "cells": [
  {
   "cell_type": "code",
   "execution_count": 1,
   "metadata": {
    "collapsed": true,
    "pycharm": {
     "name": "#%%\n"
    }
   },
   "outputs": [],
   "source": [
    "import numpy as np\n",
    "import pandas as pd\n",
    "volume = pd.read_csv(\"../data/销售量按日期品类合并.csv\",encoding='utf-8',index_col='销售日期')\n",
    "price = pd.read_csv(\"../data/各品类每日单价.csv\",encoding='utf-8',index_col='销售日期')"
   ]
  },
  {
   "cell_type": "code",
   "execution_count": null,
   "outputs": [],
   "source": [
    "LAG = pd.DataFrame(data = [1,1,1,1,1,1], index =  ['花叶类', '花菜类', '水生根茎类', '茄类', '辣椒类', '食用菌'] , columns=['lag'])\n",
    "from statsmodels.tsa.api import VAR\n",
    "for types in ['花叶类', '花菜类', '水生根茎类', '茄类', '辣椒类', '食用菌']:\n",
    "    maxlags = LAG.loc[types]['lag']\n",
    "    VAR_data = []\n",
    "    VAR_data.append(price[types].values[:-maxlags])\n",
    "    VAR_data.append(volume[types].values[maxlags:])\n",
    "    VAR_data = pd.DataFrame(VAR_data).T\n",
    "    #print(VAR_data)\n",
    "    model = VAR(VAR_data)\n",
    "\n",
    "    results = model.fit(maxlags=maxlags, ic='aic')\n",
    "    results.summary()\n",
    "\n",
    "\n",
    "    import matplotlib.pyplot as plt\n",
    "    import warnings\n",
    "    warnings.simplefilter(action='ignore', category=FutureWarning)\n",
    "    lag_order = results.k_ar\n",
    "    y1 = []\n",
    "    y2 = []\n",
    "    count = 0\n",
    "    n,m = VAR_data.shape\n",
    "    # 用i枚举每一天\n",
    "    for i in range(n-maxlags-1):\n",
    "        # 制作输入\n",
    "        forecast_input = VAR_data.values[i:i+maxlags]\n",
    "        # 往前预测一天\n",
    "        forecast = results.forecast(forecast_input, steps=1)\n",
    "        # 将预测结果加入数组中\n",
    "        y1.append(forecast[0][1])\n",
    "        # y2中存储的原本的值\n",
    "        y2.append(VAR_data.values[i+maxlags+1][1])\n",
    "        # 将两者和阈值进行比较\n",
    "        if abs(forecast[0][1]-VAR_data.values[i+maxlags+1][1]) < 0.17*1e9:\n",
    "            count +=1\n",
    "\n",
    "    # 输出正确率\n",
    "    #print(count/(n-maxlags))\n",
    "    plt.rcParams[\"font.sans-serif\"]=[\"SimHei\"] #设置字体\n",
    "    plt.rcParams[\"axes.unicode_minus\"]=False #该语句解决图像中的“-”负号的乱码问题\n",
    "    fig = plt.figure(figsize=(40,20))\n",
    "    # 手动对齐\n",
    "    plt.title(types+'每日销售量预测',fontsize = 50)\n",
    "    plt.plot(y2[:-2],'r', label = '实际')\n",
    "    plt.plot(y1[2:],label = '预测')\n",
    "    plt.legend(fontsize = 50)\n",
    "    plt.savefig('../data/preLineCharts/'+types+'每日销售量预测'+'.jpg')\n",
    "    plt.show()\n"
   ],
   "metadata": {
    "collapsed": false,
    "pycharm": {
     "name": "#%%\n",
     "is_executing": true
    }
   }
  },
  {
   "cell_type": "code",
   "execution_count": 3,
   "outputs": [
    {
     "name": "stdout",
     "output_type": "stream",
     "text": [
      "                   花叶类        花菜类      水生根茎类         茄类        辣椒类        食用菌\n",
      "销售日期                                                                         \n",
      "2023-07-01  158.529805  29.928016  18.206689  23.538352  85.000221  57.691481\n",
      "2023-07-02  173.694791  31.152475  19.053572  22.863389  86.648565  66.840241\n",
      "2023-07-03  181.767325  31.998033  20.778435  22.398213  87.626106  71.164567\n",
      "2023-07-04  185.947824  32.608832  22.776593  22.072331  88.182165  72.948485\n",
      "2023-07-05  187.999296  33.072399  24.751552  21.839241  88.474061  73.439519\n",
      "2023-07-06  188.892515  33.441977  26.569578  21.668248  88.601039  73.310462\n",
      "2023-07-07  189.161645  33.750045  28.181205  21.539079  88.625691  72.917132\n"
     ]
    }
   ],
   "source": [
    "LAG = pd.DataFrame(data = [1,1,1,1,1,1], index =  ['花叶类', '花菜类', '水生根茎类', '茄类', '辣椒类', '食用菌'] , columns=['lag'])\n",
    "volume_pre = pd.DataFrame([])\n",
    "volume_pre['销售日期']=pd.date_range(start='2023-07-01', end='2023-07-07', freq='D')\n",
    "volume_pre = volume_pre.set_index('销售日期')\n",
    "from statsmodels.tsa.api import VAR\n",
    "for types in ['花叶类', '花菜类', '水生根茎类', '茄类', '辣椒类', '食用菌']:\n",
    "    maxlags = LAG.loc[types]['lag']\n",
    "    VAR_data = []\n",
    "    VAR_data.append(price[types].values[:-maxlags])\n",
    "    VAR_data.append(volume[types].values[maxlags:])\n",
    "    VAR_data = pd.DataFrame(VAR_data).T\n",
    "    #print(VAR_data)\n",
    "    model = VAR(VAR_data)\n",
    "\n",
    "    results = model.fit(maxlags=maxlags, ic='aic')\n",
    "    results.summary()\n",
    "\n",
    "    import warnings\n",
    "    warnings.simplefilter(action='ignore', category=FutureWarning)\n",
    "    lag_order = results.k_ar\n",
    "\n",
    "    count = 0\n",
    "    n,m = VAR_data.shape\n",
    "    # 制作输入\n",
    "    forecast_input = VAR_data.values[-maxlags-1:]\n",
    "    #print(forecast_input)\n",
    "    # 往前预测7天\n",
    "    forecast = results.forecast(forecast_input, steps=7)\n",
    "    forecast = pd.DataFrame(forecast)[1]\n",
    "    #print(forecast)\n",
    "    volume_pre[types] = forecast.values\n",
    "print(volume_pre)\n",
    "volume_pre.to_csv('../data/销售量未来一周预测.csv',sep=',',encoding='utf_8_sig')"
   ],
   "metadata": {
    "collapsed": false,
    "pycharm": {
     "name": "#%%\n"
    }
   }
  }
 ],
 "metadata": {
  "kernelspec": {
   "display_name": "Python 3",
   "language": "python",
   "name": "python3"
  },
  "language_info": {
   "codemirror_mode": {
    "name": "ipython",
    "version": 2
   },
   "file_extension": ".py",
   "mimetype": "text/x-python",
   "name": "python",
   "nbconvert_exporter": "python",
   "pygments_lexer": "ipython2",
   "version": "2.7.6"
  }
 },
 "nbformat": 4,
 "nbformat_minor": 0
}