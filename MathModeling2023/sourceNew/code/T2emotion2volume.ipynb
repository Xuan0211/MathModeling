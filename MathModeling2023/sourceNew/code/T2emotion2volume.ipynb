{
 "cells": [
  {
   "cell_type": "code",
   "execution_count": 93,
   "metadata": {
    "collapsed": true,
    "pycharm": {
     "name": "#%%\n"
    }
   },
   "outputs": [],
   "source": [
    "import numpy as np\n",
    "import pandas as pd\n",
    "emotion = pd.read_csv(\"../data/各品类每日代理指数.csv\",encoding='utf-8',index_col='销售日期')\n",
    "emotion_pre = pd.read_csv(\"../data/代理指数未来一周预测.csv\",encoding='utf-8',index_col='销售日期')\n",
    "volume = pd.read_csv(\"../data/销售量按日期品类合并.csv\",encoding='utf-8',index_col='销售日期')"
   ]
  },
  {
   "cell_type": "code",
   "execution_count": 94,
   "outputs": [
    {
     "name": "stdout",
     "output_type": "stream",
     "text": [
      "                 花叶类       花菜类     水生根茎类        茄类       辣椒类       食用菌\n",
      "销售日期                                                                  \n",
      "2020/7/1   19.175897  0.236495 -4.132788  0.921461 -0.622134  3.170321\n",
      "2020/7/2   13.786113 -0.092394 -4.302012  0.710043 -1.073785  3.752385\n",
      "2020/7/3   15.094849 -0.381225 -8.270809  0.946354 -1.561290  3.204998\n",
      "2020/7/4   23.632755  0.630052 -3.364830  2.262836 -1.936748  3.723344\n",
      "2020/7/5   11.632874  0.592140 -4.056903  4.148243 -2.509096  3.399236\n",
      "...              ...       ...       ...       ...       ...       ...\n",
      "2023/6/26  -5.915219 -0.500844 -2.228535 -0.006156  1.067913 -2.570690\n",
      "2023/6/27 -16.666987 -0.175046 -3.735040 -1.069169  0.341080 -0.904200\n",
      "2023/6/28 -16.117267 -0.260929 -2.462747 -0.601177  0.856726 -1.691719\n",
      "2023/6/29 -16.567488 -0.265094 -3.191248 -0.748712  0.968036 -1.093431\n",
      "2023/6/30 -16.936474 -0.204560 -3.480284 -0.740408  0.502294 -0.832791\n",
      "\n",
      "[1095 rows x 6 columns]\n",
      "                  花叶类       花菜类     水生根茎类        茄类       辣椒类       食用菌\n",
      "销售日期                                                                   \n",
      "2023-07-01 -15.245912 -0.048148 -3.108026 -0.482238  0.588008 -1.500161\n",
      "2023-07-02 -13.765291  0.014871 -3.080999 -0.302803  0.645063 -1.439309\n",
      "2023-07-03 -12.465587  0.039220 -3.003270 -0.178633  0.616472 -1.602079\n",
      "2023-07-04 -11.321983  0.047609 -3.007060 -0.093229  0.610381 -1.547500\n",
      "2023-07-05 -10.313246  0.049462 -2.975877 -0.034990  0.613428 -1.511907\n",
      "2023-07-06  -9.421203  0.048686 -2.909424  0.004238  0.609541 -1.616889\n",
      "2023-07-07  -8.630285  0.046898 -2.858253  0.030184  0.604866 -1.650780\n",
      "                花叶类     花菜类   水生根茎类      茄类     辣椒类     食用菌\n",
      "销售日期                                                       \n",
      "2020-07-01  205.402  46.640   4.850  35.374  76.715  35.365\n",
      "2020-07-02  198.362  43.943   4.600  32.199  66.064  48.510\n",
      "2020-07-03  190.779  42.076   9.572  35.896  64.253  42.442\n",
      "2020-07-04  236.587  55.662   5.439  57.067  81.282  47.262\n",
      "2020-07-05  223.899  55.474   4.019  61.816  98.496  73.213\n",
      "...             ...     ...     ...     ...     ...     ...\n",
      "2023-06-26   80.524   8.083  10.384  21.224  72.185  39.582\n",
      "2023-06-27  127.278  14.272  16.454   8.415  67.120  38.708\n",
      "2023-06-28  130.182  16.069  14.946  15.651  68.534  53.742\n",
      "2023-06-29  135.090  24.367  22.945  11.511  89.113  48.314\n",
      "2023-06-30  130.464  28.087  19.419  24.530  82.286  39.572\n",
      "\n",
      "[1095 rows x 6 columns]\n"
     ]
    }
   ],
   "source": [
    "print(emotion)\n",
    "print(emotion_pre)\n",
    "print(volume)"
   ],
   "metadata": {
    "collapsed": false,
    "pycharm": {
     "name": "#%%\n"
    }
   }
  },
  {
   "cell_type": "code",
   "execution_count": 95,
   "outputs": [
    {
     "name": "stdout",
     "output_type": "stream",
     "text": [
      "                  花叶类       花菜类     水生根茎类        茄类       辣椒类       食用菌\n",
      "销售日期                                                                   \n",
      "2020/7/1    19.175897  0.236495 -4.132788  0.921461 -0.622134  3.170321\n",
      "2020/7/2    13.786113 -0.092394 -4.302012  0.710043 -1.073785  3.752385\n",
      "2020/7/3    15.094849 -0.381225 -8.270809  0.946354 -1.561290  3.204998\n",
      "2020/7/4    23.632755  0.630052 -3.364830  2.262836 -1.936748  3.723344\n",
      "2020/7/5    11.632874  0.592140 -4.056903  4.148243 -2.509096  3.399236\n",
      "...               ...       ...       ...       ...       ...       ...\n",
      "2023-07-03 -12.465587  0.039220 -3.003270 -0.178633  0.616472 -1.602079\n",
      "2023-07-04 -11.321983  0.047609 -3.007060 -0.093229  0.610381 -1.547500\n",
      "2023-07-05 -10.313246  0.049462 -2.975877 -0.034990  0.613428 -1.511907\n",
      "2023-07-06  -9.421203  0.048686 -2.909424  0.004238  0.609541 -1.616889\n",
      "2023-07-07  -8.630285  0.046898 -2.858253  0.030184  0.604866 -1.650780\n",
      "\n",
      "[1102 rows x 6 columns]\n"
     ]
    }
   ],
   "source": [
    "emotion_merged = pd.concat([emotion,emotion_pre])\n",
    "print(emotion_merged)"
   ],
   "metadata": {
    "collapsed": false,
    "pycharm": {
     "name": "#%%\n"
    }
   }
  },
  {
   "cell_type": "code",
   "execution_count": 96,
   "outputs": [],
   "source": [
    "from sklearn.preprocessing import MinMaxScaler"
   ],
   "metadata": {
    "collapsed": false,
    "pycharm": {
     "name": "#%%\n"
    }
   }
  },
  {
   "cell_type": "code",
   "execution_count": 97,
   "outputs": [
    {
     "name": "stdout",
     "output_type": "stream",
     "text": [
      "[[890.49662556]\n",
      " [847.60869019]\n",
      " [858.02264971]\n",
      " ...\n",
      " [655.84372548]\n",
      " [662.94194827]\n",
      " [669.23549291]]\n",
      "[[48.48258829]\n",
      " [44.93349919]\n",
      " [41.81667004]\n",
      " ...\n",
      " [46.46428726]\n",
      " [46.45591044]\n",
      " [46.43661469]]\n",
      "[[49.99131231]\n",
      " [48.04452867]\n",
      " [ 2.3867776 ]\n",
      " ...\n",
      " [63.30062765]\n",
      " [64.06511438]\n",
      " [64.65378576]]\n",
      "[[81.69616735]\n",
      " [80.568935  ]\n",
      " [81.82889187]\n",
      " ...\n",
      " [76.59658771]\n",
      " [76.80574142]\n",
      " [76.94407947]]\n",
      "[[282.45572286]\n",
      " [272.28310458]\n",
      " [261.30294401]\n",
      " ...\n",
      " [310.28452711]\n",
      " [310.19697432]\n",
      " [310.09167613]]\n",
      "[[212.14671608]\n",
      " [217.22348615]\n",
      " [212.4491742 ]\n",
      " ...\n",
      " [171.30827556]\n",
      " [170.39262016]\n",
      " [170.09702527]]\n"
     ]
    },
    {
     "ename": "PermissionError",
     "evalue": "[Errno 13] Permission denied: '../data/emotion/情绪指数01映射.csv'",
     "output_type": "error",
     "traceback": [
      "\u001B[1;31m---------------------------------------------------------------------------\u001B[0m",
      "\u001B[1;31mPermissionError\u001B[0m                           Traceback (most recent call last)",
      "Input \u001B[1;32mIn [97]\u001B[0m, in \u001B[0;36m<cell line: 29>\u001B[1;34m()\u001B[0m\n\u001B[0;32m     26\u001B[0m     emotion_temp \u001B[38;5;241m=\u001B[39m scaler1\u001B[38;5;241m.\u001B[39minverse_transform(emotion_temp)\n\u001B[0;32m     28\u001B[0m     \u001B[38;5;28mprint\u001B[39m(emotion_temp)\n\u001B[1;32m---> 29\u001B[0m \u001B[43memotion_ans\u001B[49m\u001B[38;5;241;43m.\u001B[39;49m\u001B[43mto_csv\u001B[49m\u001B[43m(\u001B[49m\u001B[38;5;124;43m'\u001B[39;49m\u001B[38;5;124;43m../data/emotion/情绪指数01映射.csv\u001B[39;49m\u001B[38;5;124;43m'\u001B[39;49m\u001B[43m,\u001B[49m\u001B[43msep\u001B[49m\u001B[38;5;241;43m=\u001B[39;49m\u001B[38;5;124;43m'\u001B[39;49m\u001B[38;5;124;43m,\u001B[39;49m\u001B[38;5;124;43m'\u001B[39;49m\u001B[43m,\u001B[49m\u001B[43mencoding\u001B[49m\u001B[38;5;241;43m=\u001B[39;49m\u001B[38;5;124;43m'\u001B[39;49m\u001B[38;5;124;43mutf_8_sig\u001B[39;49m\u001B[38;5;124;43m'\u001B[39;49m\u001B[43m)\u001B[49m\n\u001B[0;32m     30\u001B[0m volume_ans\u001B[38;5;241m.\u001B[39mto_csv(\u001B[38;5;124m'\u001B[39m\u001B[38;5;124m../data/emotion/销售量01映射.csv\u001B[39m\u001B[38;5;124m'\u001B[39m,sep\u001B[38;5;241m=\u001B[39m\u001B[38;5;124m'\u001B[39m\u001B[38;5;124m,\u001B[39m\u001B[38;5;124m'\u001B[39m,encoding\u001B[38;5;241m=\u001B[39m\u001B[38;5;124m'\u001B[39m\u001B[38;5;124mutf_8_sig\u001B[39m\u001B[38;5;124m'\u001B[39m)\n",
      "File \u001B[1;32m~\\AppData\\Local\\Programs\\Python\\Python310\\lib\\site-packages\\pandas\\core\\generic.py:3551\u001B[0m, in \u001B[0;36mNDFrame.to_csv\u001B[1;34m(self, path_or_buf, sep, na_rep, float_format, columns, header, index, index_label, mode, encoding, compression, quoting, quotechar, line_terminator, chunksize, date_format, doublequote, escapechar, decimal, errors, storage_options)\u001B[0m\n\u001B[0;32m   3540\u001B[0m df \u001B[38;5;241m=\u001B[39m \u001B[38;5;28mself\u001B[39m \u001B[38;5;28;01mif\u001B[39;00m \u001B[38;5;28misinstance\u001B[39m(\u001B[38;5;28mself\u001B[39m, ABCDataFrame) \u001B[38;5;28;01melse\u001B[39;00m \u001B[38;5;28mself\u001B[39m\u001B[38;5;241m.\u001B[39mto_frame()\n\u001B[0;32m   3542\u001B[0m formatter \u001B[38;5;241m=\u001B[39m DataFrameFormatter(\n\u001B[0;32m   3543\u001B[0m     frame\u001B[38;5;241m=\u001B[39mdf,\n\u001B[0;32m   3544\u001B[0m     header\u001B[38;5;241m=\u001B[39mheader,\n\u001B[1;32m   (...)\u001B[0m\n\u001B[0;32m   3548\u001B[0m     decimal\u001B[38;5;241m=\u001B[39mdecimal,\n\u001B[0;32m   3549\u001B[0m )\n\u001B[1;32m-> 3551\u001B[0m \u001B[38;5;28;01mreturn\u001B[39;00m \u001B[43mDataFrameRenderer\u001B[49m\u001B[43m(\u001B[49m\u001B[43mformatter\u001B[49m\u001B[43m)\u001B[49m\u001B[38;5;241;43m.\u001B[39;49m\u001B[43mto_csv\u001B[49m\u001B[43m(\u001B[49m\n\u001B[0;32m   3552\u001B[0m \u001B[43m    \u001B[49m\u001B[43mpath_or_buf\u001B[49m\u001B[43m,\u001B[49m\n\u001B[0;32m   3553\u001B[0m \u001B[43m    \u001B[49m\u001B[43mline_terminator\u001B[49m\u001B[38;5;241;43m=\u001B[39;49m\u001B[43mline_terminator\u001B[49m\u001B[43m,\u001B[49m\n\u001B[0;32m   3554\u001B[0m \u001B[43m    \u001B[49m\u001B[43msep\u001B[49m\u001B[38;5;241;43m=\u001B[39;49m\u001B[43msep\u001B[49m\u001B[43m,\u001B[49m\n\u001B[0;32m   3555\u001B[0m \u001B[43m    \u001B[49m\u001B[43mencoding\u001B[49m\u001B[38;5;241;43m=\u001B[39;49m\u001B[43mencoding\u001B[49m\u001B[43m,\u001B[49m\n\u001B[0;32m   3556\u001B[0m \u001B[43m    \u001B[49m\u001B[43merrors\u001B[49m\u001B[38;5;241;43m=\u001B[39;49m\u001B[43merrors\u001B[49m\u001B[43m,\u001B[49m\n\u001B[0;32m   3557\u001B[0m \u001B[43m    \u001B[49m\u001B[43mcompression\u001B[49m\u001B[38;5;241;43m=\u001B[39;49m\u001B[43mcompression\u001B[49m\u001B[43m,\u001B[49m\n\u001B[0;32m   3558\u001B[0m \u001B[43m    \u001B[49m\u001B[43mquoting\u001B[49m\u001B[38;5;241;43m=\u001B[39;49m\u001B[43mquoting\u001B[49m\u001B[43m,\u001B[49m\n\u001B[0;32m   3559\u001B[0m \u001B[43m    \u001B[49m\u001B[43mcolumns\u001B[49m\u001B[38;5;241;43m=\u001B[39;49m\u001B[43mcolumns\u001B[49m\u001B[43m,\u001B[49m\n\u001B[0;32m   3560\u001B[0m \u001B[43m    \u001B[49m\u001B[43mindex_label\u001B[49m\u001B[38;5;241;43m=\u001B[39;49m\u001B[43mindex_label\u001B[49m\u001B[43m,\u001B[49m\n\u001B[0;32m   3561\u001B[0m \u001B[43m    \u001B[49m\u001B[43mmode\u001B[49m\u001B[38;5;241;43m=\u001B[39;49m\u001B[43mmode\u001B[49m\u001B[43m,\u001B[49m\n\u001B[0;32m   3562\u001B[0m \u001B[43m    \u001B[49m\u001B[43mchunksize\u001B[49m\u001B[38;5;241;43m=\u001B[39;49m\u001B[43mchunksize\u001B[49m\u001B[43m,\u001B[49m\n\u001B[0;32m   3563\u001B[0m \u001B[43m    \u001B[49m\u001B[43mquotechar\u001B[49m\u001B[38;5;241;43m=\u001B[39;49m\u001B[43mquotechar\u001B[49m\u001B[43m,\u001B[49m\n\u001B[0;32m   3564\u001B[0m \u001B[43m    \u001B[49m\u001B[43mdate_format\u001B[49m\u001B[38;5;241;43m=\u001B[39;49m\u001B[43mdate_format\u001B[49m\u001B[43m,\u001B[49m\n\u001B[0;32m   3565\u001B[0m \u001B[43m    \u001B[49m\u001B[43mdoublequote\u001B[49m\u001B[38;5;241;43m=\u001B[39;49m\u001B[43mdoublequote\u001B[49m\u001B[43m,\u001B[49m\n\u001B[0;32m   3566\u001B[0m \u001B[43m    \u001B[49m\u001B[43mescapechar\u001B[49m\u001B[38;5;241;43m=\u001B[39;49m\u001B[43mescapechar\u001B[49m\u001B[43m,\u001B[49m\n\u001B[0;32m   3567\u001B[0m \u001B[43m    \u001B[49m\u001B[43mstorage_options\u001B[49m\u001B[38;5;241;43m=\u001B[39;49m\u001B[43mstorage_options\u001B[49m\u001B[43m,\u001B[49m\n\u001B[0;32m   3568\u001B[0m \u001B[43m\u001B[49m\u001B[43m)\u001B[49m\n",
      "File \u001B[1;32m~\\AppData\\Local\\Programs\\Python\\Python310\\lib\\site-packages\\pandas\\io\\formats\\format.py:1180\u001B[0m, in \u001B[0;36mDataFrameRenderer.to_csv\u001B[1;34m(self, path_or_buf, encoding, sep, columns, index_label, mode, compression, quoting, quotechar, line_terminator, chunksize, date_format, doublequote, escapechar, errors, storage_options)\u001B[0m\n\u001B[0;32m   1159\u001B[0m     created_buffer \u001B[38;5;241m=\u001B[39m \u001B[38;5;28;01mFalse\u001B[39;00m\n\u001B[0;32m   1161\u001B[0m csv_formatter \u001B[38;5;241m=\u001B[39m CSVFormatter(\n\u001B[0;32m   1162\u001B[0m     path_or_buf\u001B[38;5;241m=\u001B[39mpath_or_buf,\n\u001B[0;32m   1163\u001B[0m     line_terminator\u001B[38;5;241m=\u001B[39mline_terminator,\n\u001B[1;32m   (...)\u001B[0m\n\u001B[0;32m   1178\u001B[0m     formatter\u001B[38;5;241m=\u001B[39m\u001B[38;5;28mself\u001B[39m\u001B[38;5;241m.\u001B[39mfmt,\n\u001B[0;32m   1179\u001B[0m )\n\u001B[1;32m-> 1180\u001B[0m \u001B[43mcsv_formatter\u001B[49m\u001B[38;5;241;43m.\u001B[39;49m\u001B[43msave\u001B[49m\u001B[43m(\u001B[49m\u001B[43m)\u001B[49m\n\u001B[0;32m   1182\u001B[0m \u001B[38;5;28;01mif\u001B[39;00m created_buffer:\n\u001B[0;32m   1183\u001B[0m     \u001B[38;5;28;01massert\u001B[39;00m \u001B[38;5;28misinstance\u001B[39m(path_or_buf, StringIO)\n",
      "File \u001B[1;32m~\\AppData\\Local\\Programs\\Python\\Python310\\lib\\site-packages\\pandas\\io\\formats\\csvs.py:241\u001B[0m, in \u001B[0;36mCSVFormatter.save\u001B[1;34m(self)\u001B[0m\n\u001B[0;32m    237\u001B[0m \u001B[38;5;124;03m\"\"\"\u001B[39;00m\n\u001B[0;32m    238\u001B[0m \u001B[38;5;124;03mCreate the writer & save.\u001B[39;00m\n\u001B[0;32m    239\u001B[0m \u001B[38;5;124;03m\"\"\"\u001B[39;00m\n\u001B[0;32m    240\u001B[0m \u001B[38;5;66;03m# apply compression and byte/text conversion\u001B[39;00m\n\u001B[1;32m--> 241\u001B[0m \u001B[38;5;28;01mwith\u001B[39;00m \u001B[43mget_handle\u001B[49m\u001B[43m(\u001B[49m\n\u001B[0;32m    242\u001B[0m \u001B[43m    \u001B[49m\u001B[38;5;28;43mself\u001B[39;49m\u001B[38;5;241;43m.\u001B[39;49m\u001B[43mfilepath_or_buffer\u001B[49m\u001B[43m,\u001B[49m\n\u001B[0;32m    243\u001B[0m \u001B[43m    \u001B[49m\u001B[38;5;28;43mself\u001B[39;49m\u001B[38;5;241;43m.\u001B[39;49m\u001B[43mmode\u001B[49m\u001B[43m,\u001B[49m\n\u001B[0;32m    244\u001B[0m \u001B[43m    \u001B[49m\u001B[43mencoding\u001B[49m\u001B[38;5;241;43m=\u001B[39;49m\u001B[38;5;28;43mself\u001B[39;49m\u001B[38;5;241;43m.\u001B[39;49m\u001B[43mencoding\u001B[49m\u001B[43m,\u001B[49m\n\u001B[0;32m    245\u001B[0m \u001B[43m    \u001B[49m\u001B[43merrors\u001B[49m\u001B[38;5;241;43m=\u001B[39;49m\u001B[38;5;28;43mself\u001B[39;49m\u001B[38;5;241;43m.\u001B[39;49m\u001B[43merrors\u001B[49m\u001B[43m,\u001B[49m\n\u001B[0;32m    246\u001B[0m \u001B[43m    \u001B[49m\u001B[43mcompression\u001B[49m\u001B[38;5;241;43m=\u001B[39;49m\u001B[38;5;28;43mself\u001B[39;49m\u001B[38;5;241;43m.\u001B[39;49m\u001B[43mcompression\u001B[49m\u001B[43m,\u001B[49m\n\u001B[0;32m    247\u001B[0m \u001B[43m    \u001B[49m\u001B[43mstorage_options\u001B[49m\u001B[38;5;241;43m=\u001B[39;49m\u001B[38;5;28;43mself\u001B[39;49m\u001B[38;5;241;43m.\u001B[39;49m\u001B[43mstorage_options\u001B[49m\u001B[43m,\u001B[49m\n\u001B[0;32m    248\u001B[0m \u001B[43m\u001B[49m\u001B[43m)\u001B[49m \u001B[38;5;28;01mas\u001B[39;00m handles:\n\u001B[0;32m    249\u001B[0m \n\u001B[0;32m    250\u001B[0m     \u001B[38;5;66;03m# Note: self.encoding is irrelevant here\u001B[39;00m\n\u001B[0;32m    251\u001B[0m     \u001B[38;5;28mself\u001B[39m\u001B[38;5;241m.\u001B[39mwriter \u001B[38;5;241m=\u001B[39m csvlib\u001B[38;5;241m.\u001B[39mwriter(\n\u001B[0;32m    252\u001B[0m         handles\u001B[38;5;241m.\u001B[39mhandle,\n\u001B[0;32m    253\u001B[0m         lineterminator\u001B[38;5;241m=\u001B[39m\u001B[38;5;28mself\u001B[39m\u001B[38;5;241m.\u001B[39mline_terminator,\n\u001B[1;32m   (...)\u001B[0m\n\u001B[0;32m    258\u001B[0m         quotechar\u001B[38;5;241m=\u001B[39m\u001B[38;5;28mself\u001B[39m\u001B[38;5;241m.\u001B[39mquotechar,\n\u001B[0;32m    259\u001B[0m     )\n\u001B[0;32m    261\u001B[0m     \u001B[38;5;28mself\u001B[39m\u001B[38;5;241m.\u001B[39m_save()\n",
      "File \u001B[1;32m~\\AppData\\Local\\Programs\\Python\\Python310\\lib\\site-packages\\pandas\\io\\common.py:786\u001B[0m, in \u001B[0;36mget_handle\u001B[1;34m(path_or_buf, mode, encoding, compression, memory_map, is_text, errors, storage_options)\u001B[0m\n\u001B[0;32m    781\u001B[0m \u001B[38;5;28;01melif\u001B[39;00m \u001B[38;5;28misinstance\u001B[39m(handle, \u001B[38;5;28mstr\u001B[39m):\n\u001B[0;32m    782\u001B[0m     \u001B[38;5;66;03m# Check whether the filename is to be opened in binary mode.\u001B[39;00m\n\u001B[0;32m    783\u001B[0m     \u001B[38;5;66;03m# Binary mode does not support 'encoding' and 'newline'.\u001B[39;00m\n\u001B[0;32m    784\u001B[0m     \u001B[38;5;28;01mif\u001B[39;00m ioargs\u001B[38;5;241m.\u001B[39mencoding \u001B[38;5;129;01mand\u001B[39;00m \u001B[38;5;124m\"\u001B[39m\u001B[38;5;124mb\u001B[39m\u001B[38;5;124m\"\u001B[39m \u001B[38;5;129;01mnot\u001B[39;00m \u001B[38;5;129;01min\u001B[39;00m ioargs\u001B[38;5;241m.\u001B[39mmode:\n\u001B[0;32m    785\u001B[0m         \u001B[38;5;66;03m# Encoding\u001B[39;00m\n\u001B[1;32m--> 786\u001B[0m         handle \u001B[38;5;241m=\u001B[39m \u001B[38;5;28;43mopen\u001B[39;49m\u001B[43m(\u001B[49m\n\u001B[0;32m    787\u001B[0m \u001B[43m            \u001B[49m\u001B[43mhandle\u001B[49m\u001B[43m,\u001B[49m\n\u001B[0;32m    788\u001B[0m \u001B[43m            \u001B[49m\u001B[43mioargs\u001B[49m\u001B[38;5;241;43m.\u001B[39;49m\u001B[43mmode\u001B[49m\u001B[43m,\u001B[49m\n\u001B[0;32m    789\u001B[0m \u001B[43m            \u001B[49m\u001B[43mencoding\u001B[49m\u001B[38;5;241;43m=\u001B[39;49m\u001B[43mioargs\u001B[49m\u001B[38;5;241;43m.\u001B[39;49m\u001B[43mencoding\u001B[49m\u001B[43m,\u001B[49m\n\u001B[0;32m    790\u001B[0m \u001B[43m            \u001B[49m\u001B[43merrors\u001B[49m\u001B[38;5;241;43m=\u001B[39;49m\u001B[43merrors\u001B[49m\u001B[43m,\u001B[49m\n\u001B[0;32m    791\u001B[0m \u001B[43m            \u001B[49m\u001B[43mnewline\u001B[49m\u001B[38;5;241;43m=\u001B[39;49m\u001B[38;5;124;43m\"\u001B[39;49m\u001B[38;5;124;43m\"\u001B[39;49m\u001B[43m,\u001B[49m\n\u001B[0;32m    792\u001B[0m \u001B[43m        \u001B[49m\u001B[43m)\u001B[49m\n\u001B[0;32m    793\u001B[0m     \u001B[38;5;28;01melse\u001B[39;00m:\n\u001B[0;32m    794\u001B[0m         \u001B[38;5;66;03m# Binary mode\u001B[39;00m\n\u001B[0;32m    795\u001B[0m         handle \u001B[38;5;241m=\u001B[39m \u001B[38;5;28mopen\u001B[39m(handle, ioargs\u001B[38;5;241m.\u001B[39mmode)\n",
      "\u001B[1;31mPermissionError\u001B[0m: [Errno 13] Permission denied: '../data/emotion/情绪指数01映射.csv'"
     ]
    }
   ],
   "source": [
    "emotion_ans = pd.DataFrame([])\n",
    "emotion_ans['销售日期']=pd.date_range(start='2020-07-01', end='2023-07-07', freq='D')\n",
    "emotion_ans = emotion_ans.set_index('销售日期')\n",
    "volume_ans = pd.DataFrame([])\n",
    "volume_ans['销售日期']=pd.date_range(start='2020-07-01', end='2023-06-30', freq='D')\n",
    "volume_ans = volume_ans.set_index('销售日期')\n",
    "for types in ['花叶类', '花菜类', '水生根茎类', '茄类', '辣椒类', '食用菌']:\n",
    "    scaler = MinMaxScaler(feature_range=(0, 1))\n",
    "    emotion_temp = pd.DataFrame([])\n",
    "    emotion_temp['销售日期']=pd.date_range(start='2020-07-01', end='2023-07-07', freq='D')\n",
    "    emotion_temp = emotion_temp.set_index('销售日期')\n",
    "    emotion_temp[types] = emotion_merged[types].values\n",
    "    emotion_temp = scaler.fit_transform(emotion_temp)\n",
    "    #print(emotion_temp)\n",
    "    emotion_ans[types] = emotion_temp\n",
    "\n",
    "    volume_temp = pd.DataFrame([])\n",
    "    volume_temp['销售日期'] = pd.date_range(start='2020-07-01', end='2023-06-30', freq='D')\n",
    "    volume_temp = volume_temp.set_index('销售日期')\n",
    "    volume_temp[types] = volume[types].values\n",
    "    scaler1 = MinMaxScaler(feature_range=(0, 1))\n",
    "    volume_temp = scaler1.fit_transform(volume_temp)\n",
    "    #print(volume_temp)\n",
    "    volume_ans[types] = volume_temp\n",
    "\n",
    "    emotion_temp = scaler1.inverse_transform(emotion_temp)\n",
    "\n",
    "    print(emotion_temp)\n",
    "emotion_ans.to_csv('../data/emotion/情绪指数01映射.csv',sep=',',encoding='utf_8_sig')\n",
    "volume_ans.to_csv('../data/emotion/销售量01映射.csv',sep=',',encoding='utf_8_sig')"
   ],
   "metadata": {
    "collapsed": false,
    "pycharm": {
     "name": "#%%\n"
    }
   }
  }
 ],
 "metadata": {
  "kernelspec": {
   "display_name": "Python 3",
   "language": "python",
   "name": "python3"
  },
  "language_info": {
   "codemirror_mode": {
    "name": "ipython",
    "version": 2
   },
   "file_extension": ".py",
   "mimetype": "text/x-python",
   "name": "python",
   "nbconvert_exporter": "python",
   "pygments_lexer": "ipython2",
   "version": "2.7.6"
  }
 },
 "nbformat": 4,
 "nbformat_minor": 0
}