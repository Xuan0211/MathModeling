{
 "cells": [
  {
   "cell_type": "code",
   "execution_count": 94,
   "outputs": [],
   "source": [
    "import numpy as np\n",
    "import pandas as pd\n",
    "emotion = pd.read_csv(\"../data/各品类每日代理指数.csv\",encoding='utf-8',index_col='销售日期')\n",
    "price = pd.read_csv(\"../data/各品类每日单价.csv\",encoding='utf-8',index_col='销售日期')"
   ],
   "metadata": {
    "collapsed": false,
    "pycharm": {
     "name": "#%%\n"
    }
   }
  },
  {
   "cell_type": "code",
   "execution_count": null,
   "metadata": {
    "collapsed": true,
    "pycharm": {
     "name": "#%%\n",
     "is_executing": true
    }
   },
   "outputs": [],
   "source": [
    "LAG = pd.DataFrame(data = [1,1,5,1,3,5], index =  ['花叶类', '花菜类', '水生根茎类', '茄类', '辣椒类', '食用菌'] , columns=['lag'])\n",
    "from statsmodels.tsa.api import VAR\n",
    "for types in ['花叶类', '花菜类', '水生根茎类', '茄类', '辣椒类', '食用菌']:\n",
    "    maxlags = LAG.loc[types]['lag']\n",
    "    VAR_data = []\n",
    "    VAR_data.append(emotion[types].values[:-maxlags])\n",
    "    VAR_data.append(price[types].values[maxlags:])\n",
    "    VAR_data = pd.DataFrame(VAR_data).T\n",
    "    #print(VAR_data)\n",
    "    model = VAR(VAR_data)\n",
    "\n",
    "    results = model.fit(maxlags=maxlags, ic='aic')\n",
    "    results.summary()\n",
    "\n",
    "\n",
    "    import matplotlib.pyplot as plt\n",
    "    import warnings\n",
    "    warnings.simplefilter(action='ignore', category=FutureWarning)\n",
    "    lag_order = results.k_ar\n",
    "    y1 = []\n",
    "    y2 = []\n",
    "    count = 0\n",
    "    n,m = VAR_data.shape\n",
    "    # 用i枚举每一天\n",
    "    for i in range(n-maxlags-1):\n",
    "        # 制作输入\n",
    "        forecast_input = VAR_data.values[i:i+maxlags]\n",
    "        # 往前预测一天\n",
    "        forecast = results.forecast(forecast_input, steps=1)\n",
    "        # 将预测结果加入数组中\n",
    "        y1.append(forecast[0][1])\n",
    "        # y2中存储的原本的值\n",
    "        y2.append(VAR_data.values[i+maxlags+1][1])\n",
    "        # 将两者和阈值进行比较\n",
    "        if abs(forecast[0][1]-VAR_data.values[i+maxlags+1][1]) < 0.17*1e9:\n",
    "            count +=1\n",
    "\n",
    "    # 输出正确率\n",
    "    #print(count/(n-maxlags))\n",
    "    plt.rcParams[\"font.sans-serif\"]=[\"SimHei\"] #设置字体\n",
    "    plt.rcParams[\"axes.unicode_minus\"]=False #该语句解决图像中的“-”负号的乱码问题\n",
    "    fig = plt.figure(figsize=(40,20))\n",
    "    # 手动对齐\n",
    "    plt.title(types+'每日单价预测',fontsize = 50)\n",
    "    plt.plot(y2[:-2],'r', label = '实际')\n",
    "    plt.plot(y1[2:],label = '预测')\n",
    "    plt.legend(fontsize = 50)\n",
    "    plt.savefig('../data/preLineCharts/'+types+'每日单价预测'+'.jpg')\n",
    "    plt.show()\n"
   ]
  },
  {
   "cell_type": "code",
   "execution_count": null,
   "outputs": [],
   "source": [
    "LAG = pd.DataFrame(data = [1,5,5,3,1,5], index =  ['花叶类', '花菜类', '水生根茎类', '茄类', '辣椒类', '食用菌'] , columns=['lag'])\n",
    "from statsmodels.tsa.api import VAR\n",
    "for types in ['花叶类', '花菜类', '水生根茎类', '茄类', '辣椒类', '食用菌']:\n",
    "    maxlags = LAG.loc[types]['lag']\n",
    "    VAR_data = []\n",
    "    VAR_data.append(price[types].values[:-maxlags])\n",
    "    VAR_data.append(emotion[types].values[maxlags:])\n",
    "    VAR_data = pd.DataFrame(VAR_data).T\n",
    "    #print(VAR_data)\n",
    "    model = VAR(VAR_data)\n",
    "\n",
    "    results = model.fit(maxlags=maxlags, ic='aic')\n",
    "    results.summary()\n",
    "\n",
    "\n",
    "    import matplotlib.pyplot as plt\n",
    "    import warnings\n",
    "    warnings.simplefilter(action='ignore', category=FutureWarning)\n",
    "    lag_order = results.k_ar\n",
    "    y1 = []\n",
    "    y2 = []\n",
    "    count = 0\n",
    "    n,m = VAR_data.shape\n",
    "    # 用i枚举每一天\n",
    "    for i in range(n-maxlags-1):\n",
    "        # 制作输入\n",
    "        forecast_input = VAR_data.values[i:i+maxlags]\n",
    "        # 往前预测一天\n",
    "        forecast = results.forecast(forecast_input, steps=1)\n",
    "        # 将预测结果加入数组中\n",
    "        y1.append(forecast[0][1])\n",
    "        # y2中存储的原本的值\n",
    "        y2.append(VAR_data.values[i+maxlags+1][1])\n",
    "        # 将两者和阈值进行比较\n",
    "        if abs(forecast[0][1]-VAR_data.values[i+maxlags+1][1]) < 0.17*1e9:\n",
    "            count +=1\n",
    "\n",
    "    # 输出正确率\n",
    "    #print(count/(n-maxlags))\n",
    "    plt.rcParams[\"font.sans-serif\"]=[\"SimHei\"] #设置字体\n",
    "    plt.rcParams[\"axes.unicode_minus\"]=False #该语句解决图像中的“-”负号的乱码问题\n",
    "    fig = plt.figure(figsize=(40,20))\n",
    "    # 手动对齐\n",
    "    plt.title(types+'每日代理指数预测',fontsize = 50)\n",
    "    plt.plot(y2[:-2],'r', label = '实际')\n",
    "    plt.plot(y1[2:],label = '预测')\n",
    "    plt.legend(fontsize = 50)\n",
    "    plt.savefig('../data/preLineCharts/'+types+'每日代理指数预测'+'.jpg')\n",
    "    plt.show()\n"
   ],
   "metadata": {
    "collapsed": false,
    "pycharm": {
     "name": "#%%\n",
     "is_executing": true
    }
   }
  },
  {
   "cell_type": "code",
   "execution_count": 97,
   "outputs": [
    {
     "name": "stdout",
     "output_type": "stream",
     "text": [
      "                 花叶类        花菜类      水生根茎类        茄类       辣椒类       食用菌\n",
      "销售日期                                                                    \n",
      "2023-07-01  5.121834  11.404573  15.310416  8.185746  6.200762  5.866681\n",
      "2023-07-02  5.127423  11.300736  14.927829  8.250240  6.242942  5.843455\n",
      "2023-07-03  5.134766  11.201544  14.971296  8.302904  6.273996  5.912568\n",
      "2023-07-04  5.143512  11.107201  14.729470  8.346917  6.316383  6.140039\n",
      "2023-07-05  5.153362  11.017640  14.690847  8.384522  6.356460  6.303946\n",
      "2023-07-06  5.164061  10.932692  14.581772  8.417308  6.394534  6.321236\n",
      "2023-07-07  5.175394  10.852146  14.489027  8.446399  6.432550  6.393311\n"
     ]
    }
   ],
   "source": [
    "LAG = pd.DataFrame(data = [1,1,5,1,3,5], index =  ['花叶类', '花菜类', '水生根茎类', '茄类', '辣椒类', '食用菌'] , columns=['lag'])\n",
    "price_pre = pd.DataFrame([])\n",
    "price_pre['销售日期']=pd.date_range(start='2023-07-01', end='2023-07-07', freq='D')\n",
    "price_pre = price_pre.set_index('销售日期')\n",
    "from statsmodels.tsa.api import VAR\n",
    "for types in ['花叶类', '花菜类', '水生根茎类', '茄类', '辣椒类', '食用菌']:\n",
    "    maxlags = LAG.loc[types]['lag']\n",
    "    VAR_data = []\n",
    "    VAR_data.append(emotion[types].values[:-maxlags])\n",
    "    VAR_data.append(price[types].values[maxlags:])\n",
    "    VAR_data = pd.DataFrame(VAR_data).T\n",
    "    #print(VAR_data)\n",
    "    model = VAR(VAR_data)\n",
    "\n",
    "    results = model.fit(maxlags=maxlags, ic='aic')\n",
    "    results.summary()\n",
    "\n",
    "    import warnings\n",
    "    warnings.simplefilter(action='ignore', category=FutureWarning)\n",
    "    lag_order = results.k_ar\n",
    "\n",
    "    count = 0\n",
    "    n,m = VAR_data.shape\n",
    "    # 制作输入\n",
    "    forecast_input = VAR_data.values[-maxlags-1:]\n",
    "    #print(forecast_input)\n",
    "    # 往前预测7天\n",
    "    forecast = results.forecast(forecast_input, steps=7)\n",
    "    forecast = pd.DataFrame(forecast)[1]\n",
    "    #print(forecast)\n",
    "    price_pre[types] = forecast.values\n",
    "print(price_pre)\n",
    "price_pre.to_csv('../data/单价未来一周预测.csv',sep=',',encoding='utf_8_sig')"
   ],
   "metadata": {
    "collapsed": false,
    "pycharm": {
     "name": "#%%\n"
    }
   }
  },
  {
   "cell_type": "code",
   "execution_count": 98,
   "outputs": [
    {
     "name": "stdout",
     "output_type": "stream",
     "text": [
      "                  花叶类       花菜类     水生根茎类        茄类       辣椒类       食用菌\n",
      "销售日期                                                                   \n",
      "2023-07-01 -15.584034 -0.084342 -3.048039 -0.670273  0.521259 -1.500161\n",
      "2023-07-02 -14.362205 -0.057315 -3.102012 -0.585745  0.533808 -1.439309\n",
      "2023-07-03 -13.256770 -0.018833 -2.986555 -0.536157  0.541165 -1.602079\n",
      "2023-07-04 -12.255168  0.012427 -2.991984 -0.490208  0.544334 -1.547500\n",
      "2023-07-05 -11.346294  0.046291 -2.988456 -0.440305  0.544140 -1.511907\n",
      "2023-07-06 -10.520324  0.064923 -2.910800 -0.399478  0.541259 -1.616889\n",
      "2023-07-07  -9.768561  0.081771 -2.870281 -0.362573  0.536248 -1.650780\n"
     ]
    }
   ],
   "source": [
    "LAG = pd.DataFrame(data = [1,5,5,3,1,5], index =  ['花叶类', '花菜类', '水生根茎类', '茄类', '辣椒类', '食用菌'] , columns=['lag'])\n",
    "emotion_pre = pd.DataFrame([])\n",
    "emotion_pre['销售日期']=pd.date_range(start='2023-07-01', end='2023-07-07', freq='D')\n",
    "emotion_pre = emotion_pre.set_index('销售日期')\n",
    "from statsmodels.tsa.api import VAR\n",
    "for types in ['花叶类', '花菜类', '水生根茎类', '茄类', '辣椒类', '食用菌']:\n",
    "    maxlags = LAG.loc[types]['lag']\n",
    "    VAR_data = []\n",
    "    VAR_data.append(price[types].values[:-maxlags])\n",
    "    VAR_data.append(emotion[types].values[maxlags:])\n",
    "    VAR_data = pd.DataFrame(VAR_data).T\n",
    "    #print(VAR_data)\n",
    "    model = VAR(VAR_data)\n",
    "\n",
    "    results = model.fit(maxlags=maxlags, ic='aic')\n",
    "    results.summary()\n",
    "\n",
    "    import warnings\n",
    "    warnings.simplefilter(action='ignore', category=FutureWarning)\n",
    "    lag_order = results.k_ar\n",
    "\n",
    "    count = 0\n",
    "    n,m = VAR_data.shape\n",
    "    # 制作输入\n",
    "    forecast_input = VAR_data.values[-maxlags-1:]\n",
    "    #print(forecast_input)\n",
    "    # 往前预测7天\n",
    "    forecast = results.forecast(forecast_input, steps=7)\n",
    "    forecast = pd.DataFrame(forecast)[1]\n",
    "    #print(forecast)\n",
    "    emotion_pre[types] = forecast.values\n",
    "print(emotion_pre)\n",
    "emotion_pre.to_csv('../data/代理指数未来一周预测.csv',sep=',',encoding='utf_8_sig')"
   ],
   "metadata": {
    "collapsed": false,
    "pycharm": {
     "name": "#%%\n"
    }
   }
  }
 ],
 "metadata": {
  "kernelspec": {
   "display_name": "Python 3",
   "language": "python",
   "name": "python3"
  },
  "language_info": {
   "codemirror_mode": {
    "name": "ipython",
    "version": 2
   },
   "file_extension": ".py",
   "mimetype": "text/x-python",
   "name": "python",
   "nbconvert_exporter": "python",
   "pygments_lexer": "ipython2",
   "version": "2.7.6"
  }
 },
 "nbformat": 4,
 "nbformat_minor": 0
}