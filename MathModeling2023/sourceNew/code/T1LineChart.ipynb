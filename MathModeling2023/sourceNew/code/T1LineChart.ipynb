{
 "cells": [
  {
   "cell_type": "code",
   "execution_count": 93,
   "metadata": {
    "collapsed": true,
    "pycharm": {
     "name": "#%%\n"
    }
   },
   "outputs": [
    {
     "name": "stdout",
     "output_type": "stream",
     "text": [
      "                       单品名称        分类编码 分类名称\n",
      "单品编码                                        \n",
      "102900005115168        牛首生菜  1011010101  花叶类\n",
      "102900005115199       四川红香椿  1011010101  花叶类\n",
      "102900005115625      本地小毛白菜  1011010101  花叶类\n",
      "102900005115748         白菜苔  1011010101  花叶类\n",
      "102900005115762          苋菜  1011010101  花叶类\n",
      "...                     ...         ...  ...\n",
      "106958851400125   海鲜菇(袋)(4)  1011010801  食用菌\n",
      "106971533450003      海鲜菇(包)  1011010801  食用菌\n",
      "106971533455008   海鲜菇(袋)(3)  1011010801  食用菌\n",
      "106973223300667   虫草花(盒)(2)  1011010801  食用菌\n",
      "106973990980123  和丰阳光海鲜菇(包)  1011010801  食用菌\n",
      "\n",
      "[251 rows x 3 columns]\n"
     ]
    }
   ],
   "source": [
    "import numpy as np\n",
    "import pandas as pd\n",
    "df = pd.read_csv(\"../data/按日期单品合并.csv\",encoding='utf-8',index_col='销售日期')\n",
    "pl = pd.read_excel(\"../data/附件1.xlsx\")\n",
    "pl['单品编码'] = pl['单品编码'].astype(str)\n",
    "pl = pl.set_index('单品编码')\n",
    "print(pl)"
   ]
  },
  {
   "cell_type": "code",
   "execution_count": null,
   "outputs": [],
   "source": [
    "for types in ['花叶类', '花菜类', '水生根茎类', '茄类', '辣椒类', '食用菌']:\n",
    "    names = pd.read_excel(\"../data/Kmeans/representative/\"+types+'.xlsx', header=None)\n",
    "    temp = pd.DataFrame([])\n",
    "    for index in df:\n",
    "        plrow = pl.loc[index]\n",
    "        if plrow['分类名称'] == types:\n",
    "            name_CN = plrow['单品名称']\n",
    "            temp[name_CN] = df[index]\n",
    "    temp['Sum'] = temp.apply(lambda row: row.sum(), axis=1)\n",
    "    #print(temp)\n",
    "    import matplotlib.pyplot as plt\n",
    "    plt.rcParams[\"font.sans-serif\"]=[\"SimHei\"] #设置字体\n",
    "    plt.rcParams[\"axes.unicode_minus\"]=False #该语句解决图像中的“-”负号的乱码问题\n",
    "    fig= plt.figure(figsize=(30,15))\n",
    "    plt.xticks(rotation=270, fontsize= 10)\n",
    "    import matplotlib.dates as mdates\n",
    "    ax=plt.gca()\n",
    "    #ax.xaxis.set_major_formatter(mdates.DateFormatter('%Y-%m'))\n",
    "    ax.xaxis.set_major_locator(mdates.MonthLocator(interval=2))\n",
    "    plt.title('代理单品占'+types+'下的销售量百分比随着时间变化而变化的折线',fontsize = 20)\n",
    "    handles = []\n",
    "    for index in names[0]:\n",
    "        Category_proportion = temp[index]/temp['Sum']\n",
    "        #print(Category_proportion)\n",
    "        plt.plot(Category_proportion, label=index)\n",
    "    plt.legend()  # 生成图例\n",
    "    plt.savefig('../data/linecharts/Types/'+'代理单品占'+types+'下的销售量百分比随着时间变化而变化的折线.jpg')\n",
    "    plt.show()"
   ],
   "metadata": {
    "collapsed": false,
    "pycharm": {
     "name": "#%%\n",
     "is_executing": true
    }
   }
  }
 ],
 "metadata": {
  "kernelspec": {
   "display_name": "Python 3",
   "language": "python",
   "name": "python3"
  },
  "language_info": {
   "codemirror_mode": {
    "name": "ipython",
    "version": 2
   },
   "file_extension": ".py",
   "mimetype": "text/x-python",
   "name": "python",
   "nbconvert_exporter": "python",
   "pygments_lexer": "ipython2",
   "version": "2.7.6"
  }
 },
 "nbformat": 4,
 "nbformat_minor": 0
}