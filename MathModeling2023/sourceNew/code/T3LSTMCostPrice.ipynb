{
 "cells": [
  {
   "cell_type": "code",
   "execution_count": 9,
   "metadata": {
    "collapsed": true,
    "pycharm": {
     "name": "#%%\n"
    }
   },
   "outputs": [
    {
     "name": "stdout",
     "output_type": "stream",
     "text": [
      "           销售日期  102900005115762   102900005115779   102900005115786   \\\n",
      "0      2020/7/1              3.88              6.72              3.19   \n",
      "1      2020/7/2              3.93              4.23              3.18   \n",
      "2      2020/7/3              3.57              4.61              3.79   \n",
      "3      2020/7/4              0.00              5.77              3.46   \n",
      "4      2020/7/5              3.48              5.77              3.45   \n",
      "...         ...               ...               ...               ...   \n",
      "1090  2023/6/26              2.33              5.76              2.42   \n",
      "1091  2023/6/27              2.34              5.74              2.47   \n",
      "1092  2023/6/28              2.37              0.00              2.25   \n",
      "1093  2023/6/29              2.37              5.68              2.16   \n",
      "1094  2023/6/30              2.21              0.00              2.15   \n",
      "\n",
      "      102900005115823   102900005115908   102900005115946   102900005115960   \\\n",
      "0                 7.03              4.60              4.20              2.10   \n",
      "1                 7.03              4.52              4.23              2.10   \n",
      "2                 6.76              3.89              4.30              2.11   \n",
      "3                 6.56              3.53              4.28              2.21   \n",
      "4                 6.56              4.04              4.31              2.20   \n",
      "...                ...               ...               ...               ...   \n",
      "1090              4.08              0.00              3.27              2.72   \n",
      "1091              4.08              4.61              3.28              2.67   \n",
      "1092              4.08              4.62              3.24              2.68   \n",
      "1093              4.08              0.00              3.07              2.71   \n",
      "1094              4.09              0.00              3.12              2.53   \n",
      "\n",
      "      102900005115984   102900005116233   ...  102900011032732   \\\n",
      "0                 3.44              5.76  ...              0.00   \n",
      "1                 3.58              5.71  ...              0.00   \n",
      "2                 3.75              5.70  ...              0.00   \n",
      "3                 3.75              5.42  ...              0.00   \n",
      "4                 3.75              5.44  ...              0.00   \n",
      "...                ...               ...  ...               ...   \n",
      "1090              4.48              0.00  ...             13.35   \n",
      "1091              2.66              0.00  ...             13.39   \n",
      "1092              0.00              0.00  ...              0.00   \n",
      "1093              0.00              0.00  ...             13.67   \n",
      "1094              0.00              0.00  ...             13.69   \n",
      "\n",
      "      102900011032848   102900011034330   102900011034026   102900011030929   \\\n",
      "0                 0.00              0.00              0.00               0.0   \n",
      "1                 0.00              0.00              0.00               0.0   \n",
      "2                 0.00              0.00              0.00               0.0   \n",
      "3                 0.00              0.00              0.00               0.0   \n",
      "4                 0.00              0.00              0.00               0.0   \n",
      "...                ...               ...               ...               ...   \n",
      "1090              2.61              3.42              9.89               1.3   \n",
      "1091              2.29              3.40              0.00               0.0   \n",
      "1092              2.29              3.40              9.94               0.0   \n",
      "1093              2.29              3.41              9.20               0.0   \n",
      "1094              2.33              3.41              8.39               0.0   \n",
      "\n",
      "      102900011034439   102900011033982   102900011035078   102900011035740   \\\n",
      "0                 0.00              0.00              0.00              0.00   \n",
      "1                 0.00              0.00              0.00              0.00   \n",
      "2                 0.00              0.00              0.00              0.00   \n",
      "3                 0.00              0.00              0.00              0.00   \n",
      "4                 0.00              0.00              0.00              0.00   \n",
      "...                ...               ...               ...               ...   \n",
      "1090              3.36              0.00             12.78              3.44   \n",
      "1091              3.06              4.34             12.91              3.12   \n",
      "1092              2.96              0.00             12.81              0.00   \n",
      "1093              2.95              4.34             12.80              0.00   \n",
      "1094              3.32              0.00             12.72              3.12   \n",
      "\n",
      "      102900011036686   \n",
      "0                 0.00  \n",
      "1                 0.00  \n",
      "2                 0.00  \n",
      "3                 0.00  \n",
      "4                 0.00  \n",
      "...                ...  \n",
      "1090              0.00  \n",
      "1091              1.46  \n",
      "1092              0.00  \n",
      "1093              1.71  \n",
      "1094              1.53  \n",
      "\n",
      "[1095 rows x 62 columns]\n"
     ]
    }
   ],
   "source": [
    "import numpy as np\n",
    "import pandas as pd\n",
    "df = pd.read_csv(\"../data/成本价按日期单品合并_剔除后.csv\",encoding='utf-8')\n",
    "print(df)"
   ]
  },
  {
   "cell_type": "code",
   "execution_count": 10,
   "outputs": [],
   "source": [
    "pl = pd.read_excel(\"../data/附件1.xlsx\")\n",
    "pl['单品编码'] = pl['单品编码'].astype(str)\n",
    "pl = pl.set_index('单品编码')"
   ],
   "metadata": {
    "collapsed": false,
    "pycharm": {
     "name": "#%%\n"
    }
   }
  },
  {
   "cell_type": "code",
   "execution_count": 11,
   "outputs": [],
   "source": [
    "# LSTM for international airline passengers problem with regression framing\n",
    "import numpy as np\n",
    "import matplotlib.pyplot as plt\n",
    "from pandas import read_csv\n",
    "import math\n",
    "import tensorflow as tf\n",
    "from tensorflow.keras.models import Sequential\n",
    "from tensorflow.keras.layers import Dense\n",
    "from tensorflow.keras.layers import LSTM\n",
    "from sklearn.preprocessing import MinMaxScaler\n",
    "from sklearn.metrics import mean_squared_error\n",
    "# convert an array of values into a dataset matrix\n",
    "def create_dataset(dataset, look_back=1):\n",
    "\tdataX, dataY = [], []\n",
    "\tfor i in range(len(dataset)-look_back-1):\n",
    "\t\ta = dataset[i:(i+look_back), 0]\n",
    "\t\tdataX.append(a)\n",
    "\t\tdataY.append(dataset[i + look_back, 0])\n",
    "\treturn np.array(dataX), np.array(dataY)\n",
    "# fix random seed for reproducibility\n",
    "tf.random.set_seed(7)"
   ],
   "metadata": {
    "collapsed": false,
    "pycharm": {
     "name": "#%%\n"
    }
   }
  },
  {
   "cell_type": "code",
   "execution_count": null,
   "outputs": [],
   "source": [
    "predict = pd.DataFrame([])\n",
    "RMSE = pd.DataFrame([])\n",
    "for index in df:\n",
    "\tif index == '销售日期':\n",
    "\t\tcontinue\n",
    "\t# load the dataset\n",
    "\tname_CN = pl.loc[index[:-1]]['单品名称']\n",
    "\tprint(name_CN)\n",
    "\tdataframe = df[['销售日期',index]]\n",
    "\tdataframe.set_index([\"销售日期\"], inplace=True)\n",
    "\tdataset = dataframe.values\n",
    "\tdataset = dataset.astype('float32')\n",
    "\t# normalize the dataset\n",
    "\tscaler = MinMaxScaler(feature_range=(0, 1))\n",
    "\tdataset = scaler.fit_transform(dataset)\n",
    "\t# split into train and test sets\n",
    "\ttrain_size = int(len(dataset) * 0.99)\n",
    "\ttest_size = len(dataset) - train_size\n",
    "\ttrain, test = dataset[0:train_size,:], dataset[train_size:len(dataset),:]\n",
    "\t# reshape into X=t and Y=t+1\n",
    "\tlook_back = 7\n",
    "\ttrainX, trainY = create_dataset(train, look_back)\n",
    "\ttestX, testY = create_dataset(test, look_back)\n",
    "\t# reshape input to be [samples, time steps, features]\n",
    "\ttrainX = np.reshape(trainX, (trainX.shape[0], 1, trainX.shape[1]))\n",
    "\ttestX = np.reshape(testX, (testX.shape[0], 1, testX.shape[1]))\n",
    "\t# create and fit the LSTM network\n",
    "\tmodel = Sequential()\n",
    "\tmodel.add(LSTM(30, input_shape=(1, look_back)))\n",
    "\tmodel.add(Dense(1))\n",
    "\tmodel.compile(loss='mean_squared_error', optimizer='adam')\n",
    "\tmodel.fit(trainX, trainY, epochs=30, batch_size=1, verbose=2)\n",
    "\t# make predictions\n",
    "\ttrainPredict = model.predict(trainX)\n",
    "\ttestPredict = model.predict(testX)\n",
    "\t# invert predictions\n",
    "\ttrainPredict = scaler.inverse_transform(trainPredict)\n",
    "\ttrainY = scaler.inverse_transform([trainY])\n",
    "\ttestPredict = scaler.inverse_transform(testPredict)\n",
    "\ttestY = scaler.inverse_transform([testY])\n",
    "\t# calculate root mean squared error\n",
    "\ttrainScore = np.sqrt(mean_squared_error(trainY[0], trainPredict[:,0]))\n",
    "\tprint('Train Score: %.2f RMSE' % (trainScore))\n",
    "\ttestScore = np.sqrt(mean_squared_error(testY[0], testPredict[:,0]))\n",
    "\tprint('Test Score: %.2f RMSE' % (testScore))\n",
    "\tRMSE[name_CN] = [trainScore]\n",
    "\tprint(trainScore)\n",
    "\t# shift train predictions for plotting\n",
    "\ttrainPredictPlot = np.empty_like(dataset)\n",
    "\ttrainPredictPlot[:, :] = np.nan\n",
    "\ttrainPredictPlot[look_back:len(trainPredict)+look_back, :] = trainPredict\n",
    "\t# shift test predictions for plotting\n",
    "\ttestPredictPlot = np.empty_like(dataset)\n",
    "\ttestPredictPlot[:, :] = np.nan\n",
    "\ttestPredictPlot[len(trainPredict)+(look_back*2)+1:len(dataset)-1, :] = testPredict\n",
    "\t# plot baseline and predictions\n",
    "\tplt.plot(scaler.inverse_transform(dataset))\n",
    "\tplt.plot(trainPredictPlot)\n",
    "\tplt.plot(testPredictPlot)\n",
    "\tplt.show()\n",
    "\n",
    "\ttestFinal = dataset[-look_back:]\n",
    "\ttestFinal = [pd.DataFrame(testFinal).T.values.tolist()]\n",
    "\ttestFinalPredict = model.predict(testFinal)\n",
    "\ttestFinalPredict = scaler.inverse_transform(testFinalPredict)\n",
    "\tprint(testFinalPredict)\n",
    "\tpredict[name_CN] = testFinalPredict[0]\n",
    "\tprint(\"--------------------------\")"
   ],
   "metadata": {
    "collapsed": false,
    "pycharm": {
     "name": "#%%\n",
     "is_executing": true
    }
   }
  },
  {
   "cell_type": "code",
   "execution_count": 13,
   "outputs": [
    {
     "name": "stdout",
     "output_type": "stream",
     "text": [
      "         苋菜      云南生菜       竹叶菜       上海青        菜心       木耳菜       大白菜  \\\n",
      "0  1.595777  1.242682  2.127125  0.961584  1.353451  1.349034  0.349218   \n",
      "\n",
      "      云南油麦菜     红椒(1)  紫茄子(2)  ...     高瓜(2)  姜蒜小米椒组合装(小份)    双孢菇(盒)  \\\n",
      "0  0.962714  1.742241  1.0301  ...  2.468878       0.32644  0.394944   \n",
      "\n",
      "     枝江青梗散花    鲜木耳(份)  青红杭椒组合装(份)    紫茄子(1)     红椒(2)  蟹味菇与白玉菇双拼(盒)    木耳菜(份)  \n",
      "0  0.808137  0.244485    0.486981  0.519502  1.142464      0.546552  0.148935  \n",
      "\n",
      "[1 rows x 61 columns]\n",
      "         苋菜      云南生菜       竹叶菜       上海青        菜心       木耳菜       大白菜  \\\n",
      "0  1.779793  1.331318  1.928681  3.769756  1.624508  2.933631  2.478498   \n",
      "\n",
      "      云南油麦菜     红椒(1)    紫茄子(2)  ...      高瓜(2)  姜蒜小米椒组合装(小份)    双孢菇(盒)  \\\n",
      "0  1.215161  0.363022  3.273593  ...  10.506674       1.95541  3.132378   \n",
      "\n",
      "     枝江青梗散花  鲜木耳(份)  青红杭椒组合装(份)   紫茄子(1)     红椒(2)  蟹味菇与白玉菇双拼(盒)    木耳菜(份)  \n",
      "0  5.352291   0.201    3.195488  0.84127  11.92913      2.308932  1.562065  \n",
      "\n",
      "[1 rows x 61 columns]\n"
     ]
    }
   ],
   "source": [
    "print(RMSE)\n",
    "print(predict)"
   ],
   "metadata": {
    "collapsed": false,
    "pycharm": {
     "name": "#%%\n"
    }
   }
  },
  {
   "cell_type": "code",
   "execution_count": 14,
   "outputs": [],
   "source": [
    "RMSE.to_csv('../data/成本价RMSE.csv',sep=',',encoding='utf_8_sig')\n",
    "predict.to_csv('../data/成本价7月1日预估.csv',sep=',',encoding='utf_8_sig')"
   ],
   "metadata": {
    "collapsed": false,
    "pycharm": {
     "name": "#%%\n"
    }
   }
  }
 ],
 "metadata": {
  "kernelspec": {
   "display_name": "Python 3",
   "language": "python",
   "name": "python3"
  },
  "language_info": {
   "codemirror_mode": {
    "name": "ipython",
    "version": 2
   },
   "file_extension": ".py",
   "mimetype": "text/x-python",
   "name": "python",
   "nbconvert_exporter": "python",
   "pygments_lexer": "ipython2",
   "version": "2.7.6"
  }
 },
 "nbformat": 4,
 "nbformat_minor": 0
}