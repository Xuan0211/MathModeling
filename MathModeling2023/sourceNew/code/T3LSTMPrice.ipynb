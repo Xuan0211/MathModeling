{
 "cells": [
  {
   "cell_type": "code",
   "execution_count": 23,
   "metadata": {
    "collapsed": true,
    "pycharm": {
     "name": "#%%\n"
    }
   },
   "outputs": [
    {
     "name": "stdout",
     "output_type": "stream",
     "text": [
      "           销售日期  102900005115823   102900005115908   102900005115779   \\\n",
      "0      2020/7/1         10.000000               8.0          8.000000   \n",
      "1      2020/7/2         10.000000               8.0          7.958559   \n",
      "2      2020/7/3          9.858621               8.0          8.000000   \n",
      "3      2020/7/4         10.000000               8.0          8.000000   \n",
      "4      2020/7/5          9.989286               8.0          7.997826   \n",
      "...         ...               ...               ...               ...   \n",
      "1090  2023/6/26          8.000000               0.0          9.200000   \n",
      "1091  2023/6/27          8.000000               6.0          9.200000   \n",
      "1092  2023/6/28          8.000000               6.0          0.000000   \n",
      "1093  2023/6/29          8.000000               0.0          9.200000   \n",
      "1094  2023/6/30          8.000000               0.0          0.000000   \n",
      "\n",
      "      102900005118824   102900005115984   102900005115762   102900005116714   \\\n",
      "0            10.000000           6.00000               6.0              14.0   \n",
      "1            10.000000           6.00000               6.0              14.0   \n",
      "2             8.200000           6.00000               6.0              14.0   \n",
      "3            10.000000           5.99619               0.0              14.0   \n",
      "4            10.000000           6.00000               6.0              14.0   \n",
      "...                ...               ...               ...               ...   \n",
      "1090         16.000000           7.20000               4.0              14.0   \n",
      "1091         11.927273           7.20000               4.0              12.0   \n",
      "1092         13.333333           0.00000               3.4              12.0   \n",
      "1093         15.200000           0.00000               3.4              11.2   \n",
      "1094         10.909091           0.00000               3.4              11.2   \n",
      "\n",
      "      102900005118817   102900051000944   ...  102900011032732   \\\n",
      "0                 14.0         39.800000  ...               0.0   \n",
      "1                  0.0         37.600000  ...               0.0   \n",
      "2                  0.0          0.000000  ...               0.0   \n",
      "3                  0.0         37.600000  ...               0.0   \n",
      "4                  0.0          0.000000  ...               0.0   \n",
      "...                ...               ...  ...               ...   \n",
      "1090              14.0         26.000000  ...              14.4   \n",
      "1091               0.0         17.642857  ...              18.0   \n",
      "1092               0.0         17.333333  ...               0.0   \n",
      "1093               0.0         24.700000  ...              15.2   \n",
      "1094               0.0         18.571429  ...              14.4   \n",
      "\n",
      "      102900011032848   102900011034330   102900011034026   102900011030929   \\\n",
      "0             0.000000          0.000000          0.000000             0.000   \n",
      "1             0.000000          0.000000          0.000000             0.000   \n",
      "2             0.000000          0.000000          0.000000             0.000   \n",
      "3             0.000000          0.000000          0.000000             0.000   \n",
      "4             0.000000          0.000000          0.000000             0.000   \n",
      "...                ...               ...               ...               ...   \n",
      "1090          4.562500          5.100000          0.000000             2.425   \n",
      "1091          4.800000          4.620000          0.000000             0.000   \n",
      "1092          4.800000          5.084615         14.000000             0.000   \n",
      "1093          4.166667          5.185714         13.377778             0.000   \n",
      "1094          4.800000          4.888889         11.916667             0.000   \n",
      "\n",
      "      102900011034439   102900011033982   102900011035078   102900011035740   \\\n",
      "0                  0.0               0.0          0.000000          0.000000   \n",
      "1                  0.0               0.0          0.000000          0.000000   \n",
      "2                  0.0               0.0          0.000000          0.000000   \n",
      "3                  0.0               0.0          0.000000          0.000000   \n",
      "4                  0.0               0.0          0.000000          0.000000   \n",
      "...                ...               ...               ...               ...   \n",
      "1090               3.5               0.0         20.000000          5.033333   \n",
      "1091               5.8               9.0         19.000000          5.800000   \n",
      "1092               5.8               0.0         18.666667          0.000000   \n",
      "1093               5.8               9.0         19.200000          0.000000   \n",
      "1094               5.8               0.0         19.111111          2.900000   \n",
      "\n",
      "      102900011036686   \n",
      "0                  0.0  \n",
      "1                  0.0  \n",
      "2                  0.0  \n",
      "3                  0.0  \n",
      "4                  0.0  \n",
      "...                ...  \n",
      "1090               0.0  \n",
      "1091               3.9  \n",
      "1092               0.0  \n",
      "1093               2.3  \n",
      "1094               3.9  \n",
      "\n",
      "[1095 rows x 50 columns]\n"
     ]
    }
   ],
   "source": [
    "import numpy as np\n",
    "import pandas as pd\n",
    "df = pd.read_csv(\"../data/单价按日期单品合并_剔除后.csv\",encoding='utf-8')\n",
    "print(df)"
   ]
  },
  {
   "cell_type": "code",
   "execution_count": 24,
   "outputs": [],
   "source": [
    "pl = pd.read_excel(\"../data/附件1.xlsx\")\n",
    "pl['单品编码'] = pl['单品编码'].astype(str)\n",
    "pl = pl.set_index('单品编码')"
   ],
   "metadata": {
    "collapsed": false,
    "pycharm": {
     "name": "#%%\n"
    }
   }
  },
  {
   "cell_type": "code",
   "execution_count": 25,
   "outputs": [],
   "source": [
    "# LSTM for international airline passengers problem with regression framing\n",
    "import numpy as np\n",
    "import matplotlib.pyplot as plt\n",
    "from pandas import read_csv\n",
    "import math\n",
    "import tensorflow as tf\n",
    "from tensorflow.keras.models import Sequential\n",
    "from tensorflow.keras.layers import Dense\n",
    "from tensorflow.keras.layers import LSTM\n",
    "from sklearn.preprocessing import MinMaxScaler\n",
    "from sklearn.metrics import mean_squared_error\n",
    "# convert an array of values into a dataset matrix\n",
    "def create_dataset(dataset, look_back=1):\n",
    "\tdataX, dataY = [], []\n",
    "\tfor i in range(len(dataset)-look_back-1):\n",
    "\t\ta = dataset[i:(i+look_back), 0]\n",
    "\t\tdataX.append(a)\n",
    "\t\tdataY.append(dataset[i + look_back, 0])\n",
    "\treturn np.array(dataX), np.array(dataY)\n",
    "# fix random seed for reproducibility\n",
    "tf.random.set_seed(7)"
   ],
   "metadata": {
    "collapsed": false,
    "pycharm": {
     "name": "#%%\n"
    }
   }
  },
  {
   "cell_type": "code",
   "execution_count": null,
   "outputs": [],
   "source": [
    "predict = pd.DataFrame([])\n",
    "RMSE = pd.DataFrame([])\n",
    "for index in df:\n",
    "\tif index == '销售日期':\n",
    "\t\tcontinue\n",
    "\t# load the dataset\n",
    "\tname_CN = pl.loc[index[:-1]]['单品名称']\n",
    "\tprint(name_CN)\n",
    "\tdataframe = df[['销售日期',index]]\n",
    "\tdataframe.set_index([\"销售日期\"], inplace=True)\n",
    "\tdataset = dataframe.values\n",
    "\tdataset = dataset.astype('float32')\n",
    "\t# normalize the dataset\n",
    "\tscaler = MinMaxScaler(feature_range=(0, 1))\n",
    "\tdataset = scaler.fit_transform(dataset)\n",
    "\t# split into train and test sets\n",
    "\ttrain_size = int(len(dataset) * 0.99)\n",
    "\ttest_size = len(dataset) - train_size\n",
    "\ttrain, test = dataset[0:train_size,:], dataset[train_size:len(dataset),:]\n",
    "\t# reshape into X=t and Y=t+1\n",
    "\tlook_back = 7\n",
    "\ttrainX, trainY = create_dataset(train, look_back)\n",
    "\ttestX, testY = create_dataset(test, look_back)\n",
    "\t# reshape input to be [samples, time steps, features]\n",
    "\ttrainX = np.reshape(trainX, (trainX.shape[0], 1, trainX.shape[1]))\n",
    "\ttestX = np.reshape(testX, (testX.shape[0], 1, testX.shape[1]))\n",
    "\t# create and fit the LSTM network\n",
    "\tmodel = Sequential()\n",
    "\tmodel.add(LSTM(30, input_shape=(1, look_back)))\n",
    "\tmodel.add(Dense(1))\n",
    "\tmodel.compile(loss='mean_squared_error', optimizer='adam')\n",
    "\tmodel.fit(trainX, trainY, epochs=30, batch_size=1, verbose=2)\n",
    "\t# make predictions\n",
    "\ttrainPredict = model.predict(trainX)\n",
    "\ttestPredict = model.predict(testX)\n",
    "\t# invert predictions\n",
    "\ttrainPredict = scaler.inverse_transform(trainPredict)\n",
    "\ttrainY = scaler.inverse_transform([trainY])\n",
    "\ttestPredict = scaler.inverse_transform(testPredict)\n",
    "\ttestY = scaler.inverse_transform([testY])\n",
    "\t# calculate root mean squared error\n",
    "\ttrainScore = np.sqrt(mean_squared_error(trainY[0], trainPredict[:,0]))\n",
    "\tprint('Train Score: %.2f RMSE' % (trainScore))\n",
    "\ttestScore = np.sqrt(mean_squared_error(testY[0], testPredict[:,0]))\n",
    "\tprint('Test Score: %.2f RMSE' % (testScore))\n",
    "\tRMSE[name_CN] = [trainScore]\n",
    "\tprint(trainScore)\n",
    "\t# shift train predictions for plotting\n",
    "\ttrainPredictPlot = np.empty_like(dataset)\n",
    "\ttrainPredictPlot[:, :] = np.nan\n",
    "\ttrainPredictPlot[look_back:len(trainPredict)+look_back, :] = trainPredict\n",
    "\t# shift test predictions for plotting\n",
    "\ttestPredictPlot = np.empty_like(dataset)\n",
    "\ttestPredictPlot[:, :] = np.nan\n",
    "\ttestPredictPlot[len(trainPredict)+(look_back*2)+1:len(dataset)-1, :] = testPredict\n",
    "\t# plot baseline and predictions\n",
    "\tplt.plot(scaler.inverse_transform(dataset))\n",
    "\tplt.plot(trainPredictPlot)\n",
    "\tplt.plot(testPredictPlot)\n",
    "\tplt.show()\n",
    "\n",
    "\ttestFinal = dataset[-look_back:]\n",
    "\ttestFinal = [pd.DataFrame(testFinal).T.values.tolist()]\n",
    "\ttestFinalPredict = model.predict(testFinal)\n",
    "\ttestFinalPredict = scaler.inverse_transform(testFinalPredict)\n",
    "\tprint(testFinalPredict)\n",
    "\tpredict[name_CN] = testFinalPredict[0]\n",
    "\tprint(\"--------------------------\")"
   ],
   "metadata": {
    "collapsed": false,
    "pycharm": {
     "name": "#%%\n",
     "is_executing": true
    }
   }
  },
  {
   "cell_type": "code",
   "execution_count": 27,
   "outputs": [
    {
     "name": "stdout",
     "output_type": "stream",
     "text": [
      "        上海青       菜心      云南生菜     高瓜(1)     云南油麦菜        苋菜       西兰花  \\\n",
      "0  1.544887  2.40101  1.951617  3.870446  1.476913  2.414915  1.423895   \n",
      "\n",
      "        菠菜      洪湖藕带       红薯尖  ...     高瓜(2)  姜蒜小米椒组合装(小份)    双孢菇(盒)  \\\n",
      "0  3.04003  5.927016  2.353551  ...  4.211677      0.709058  0.801868   \n",
      "\n",
      "     枝江青梗散花    鲜木耳(份)  青红杭椒组合装(份)    紫茄子(1)     红椒(2)  蟹味菇与白玉菇双拼(盒)    木耳菜(份)  \n",
      "0  1.177407  0.427737    0.859117  0.908299  2.555565      1.205094  0.226906  \n",
      "\n",
      "[1 rows x 49 columns]\n",
      "        上海青       菜心      云南生菜      高瓜(1)    云南油麦菜        苋菜        西兰花  \\\n",
      "0  7.807025  2.40725  2.765698  13.566231  1.24095  3.005982  10.383276   \n",
      "\n",
      "         菠菜       洪湖藕带       红薯尖  ...      高瓜(2)  姜蒜小米椒组合装(小份)    双孢菇(盒)  \\\n",
      "0  2.986271  18.125647  4.603646  ...  12.549412      3.734741  4.671286   \n",
      "\n",
      "     枝江青梗散花    鲜木耳(份)  青红杭椒组合装(份)    紫茄子(1)      红椒(2)  蟹味菇与白玉菇双拼(盒)    木耳菜(份)  \n",
      "0  8.854301  0.210509    4.798176  0.732851  17.867697      3.519409  4.296689  \n",
      "\n",
      "[1 rows x 49 columns]\n"
     ]
    }
   ],
   "source": [
    "print(RMSE)\n",
    "print(predict)"
   ],
   "metadata": {
    "collapsed": false,
    "pycharm": {
     "name": "#%%\n"
    }
   }
  },
  {
   "cell_type": "code",
   "execution_count": 28,
   "outputs": [],
   "source": [
    "RMSE.to_csv('../data/单价RMSE.csv',sep=',',encoding='utf_8_sig')\n",
    "predict.to_csv('../data/单价7月1日预估.csv',sep=',',encoding='utf_8_sig')"
   ],
   "metadata": {
    "collapsed": false,
    "pycharm": {
     "name": "#%%\n"
    }
   }
  }
 ],
 "metadata": {
  "kernelspec": {
   "display_name": "Python 3",
   "language": "python",
   "name": "python3"
  },
  "language_info": {
   "codemirror_mode": {
    "name": "ipython",
    "version": 2
   },
   "file_extension": ".py",
   "mimetype": "text/x-python",
   "name": "python",
   "nbconvert_exporter": "python",
   "pygments_lexer": "ipython2",
   "version": "2.7.6"
  }
 },
 "nbformat": 4,
 "nbformat_minor": 0
}