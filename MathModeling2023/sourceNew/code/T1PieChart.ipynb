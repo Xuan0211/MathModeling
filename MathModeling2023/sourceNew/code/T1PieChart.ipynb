{
 "cells": [
  {
   "cell_type": "code",
   "execution_count": 52,
   "metadata": {
    "collapsed": true,
    "pycharm": {
     "name": "#%%\n"
    }
   },
   "outputs": [
    {
     "name": "stdout",
     "output_type": "stream",
     "text": [
      "                       单品名称        分类编码 分类名称\n",
      "单品编码                                        \n",
      "102900005115168        牛首生菜  1011010101  花叶类\n",
      "102900005115199       四川红香椿  1011010101  花叶类\n",
      "102900005115625      本地小毛白菜  1011010101  花叶类\n",
      "102900005115748         白菜苔  1011010101  花叶类\n",
      "102900005115762          苋菜  1011010101  花叶类\n",
      "...                     ...         ...  ...\n",
      "106958851400125   海鲜菇(袋)(4)  1011010801  食用菌\n",
      "106971533450003      海鲜菇(包)  1011010801  食用菌\n",
      "106971533455008   海鲜菇(袋)(3)  1011010801  食用菌\n",
      "106973223300667   虫草花(盒)(2)  1011010801  食用菌\n",
      "106973990980123  和丰阳光海鲜菇(包)  1011010801  食用菌\n",
      "\n",
      "[251 rows x 3 columns]\n"
     ]
    }
   ],
   "source": [
    "import numpy as np\n",
    "import pandas as pd\n",
    "df = pd.read_csv(\"../data/按日期单品合并.csv\",encoding='utf-8',index_col='销售日期')\n",
    "pl = pd.read_excel(\"../data/附件1.xlsx\")\n",
    "pl['单品编码'] = pl['单品编码'].astype(str)\n",
    "pl = pl.set_index('单品编码')\n",
    "print(pl)"
   ]
  },
  {
   "cell_type": "code",
   "execution_count": 53,
   "outputs": [
    {
     "name": "stdout",
     "output_type": "stream",
     "text": [
      "   102900005117056  102900005115960  102900005115823  102900005115908  \\\n",
      "0         9703.125        19187.218         7606.756         4496.717   \n",
      "\n",
      "   102900005115779  102900011008522  102900005118824  102900005115984  \\\n",
      "0        15910.461         4685.261         1179.652        10305.364   \n",
      "\n",
      "   102900005116530  102900005116226  ...  102900011035740  102900011034538  \\\n",
      "0        11920.227         1186.531  ...            371.0              3.0   \n",
      "\n",
      "   102900011023976  102900011036266  102900011032480  102900011036242  \\\n",
      "0           62.221              3.0            2.224             45.0   \n",
      "\n",
      "   102900011035849  102900011021675  106972776821582  102900011036686  \n",
      "0           16.538            2.388            128.0             27.0  \n",
      "\n",
      "[1 rows x 246 columns]\n"
     ]
    }
   ],
   "source": [
    "sum_per_column = pd.DataFrame(df.sum()).T\n",
    "print(sum_per_column)"
   ],
   "metadata": {
    "collapsed": false,
    "pycharm": {
     "name": "#%%\n"
    }
   }
  },
  {
   "cell_type": "code",
   "execution_count": null,
   "outputs": [],
   "source": [
    "for types in ['花叶类', '花菜类', '水生根茎类', '茄类', '辣椒类', '食用菌']:\n",
    "    temp = pd.DataFrame([])\n",
    "    for index in sum_per_column:\n",
    "        plrow = pl.loc[index]\n",
    "        if plrow['分类名称'] == types:\n",
    "            name_CN = plrow['单品名称']\n",
    "            temp[name_CN] = sum_per_column[index]\n",
    "\n",
    "    import matplotlib.pyplot as plt\n",
    "    from  matplotlib import cm\n",
    "    plt.rcParams[\"font.sans-serif\"]=[\"SimHei\"] #设置字体\n",
    "    plt.rcParams[\"axes.unicode_minus\"]=False #该语句解决图像中的“-”负号的乱码问题\n",
    "    fig = plt.figure(figsize=(60,30))\n",
    "    # 数据\n",
    "    labels = temp.columns\n",
    "    sizes = temp.values[0]\n",
    "    colors = cm.rainbow(np.arange(len(sizes))/len(sizes)) # colormaps: Paired, autumn, rainbow, gray,spring,Darks patches, texts, autotexts = ax.pie(sizes, labels=labels, autopct='%1.0f%%',shadow=False, startangle=170, colors=colors)\n",
    "    # 绘制饼图\n",
    "    plt.pie(sizes, labels=labels, colors = colors, autopct='%1.1f%%')\n",
    "    plt.legend(fontsize = 10 , loc = 'best')\n",
    "    # 设置图表标题\n",
    "    plt.title(types+'各单品销售量占比图',fontsize = 40)\n",
    "    plt.savefig('../data/piecharts/'+types+'PieChartNew.jpg')\n",
    "    # 显示图表\n",
    "    #plt.show()\n",
    "    print(temp.T)\n",
    "    temp.T.to_csv('../data/piecharts/'+types+'.csv', sep= ',', encoding='utf_8_sig')"
   ],
   "metadata": {
    "collapsed": false,
    "pycharm": {
     "name": "#%%\n",
     "is_executing": true
    }
   }
  }
 ],
 "metadata": {
  "kernelspec": {
   "display_name": "Python 3",
   "language": "python",
   "name": "python3"
  },
  "language_info": {
   "codemirror_mode": {
    "name": "ipython",
    "version": 2
   },
   "file_extension": ".py",
   "mimetype": "text/x-python",
   "name": "python",
   "nbconvert_exporter": "python",
   "pygments_lexer": "ipython2",
   "version": "2.7.6"
  }
 },
 "nbformat": 4,
 "nbformat_minor": 0
}