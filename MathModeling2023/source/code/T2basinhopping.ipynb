{
 "cells": [
  {
   "cell_type": "code",
   "execution_count": null,
   "metadata": {
    "collapsed": true,
    "pycharm": {
     "name": "#%%\n"
    }
   },
   "outputs": [],
   "source": [
    "import numpy as np\n",
    "from scipy.optimize import dual_annealing,basinhopping,differential_evolution\n",
    "m = 0.0975\n",
    "def func2d(Q,D,D1,Q1,P):\n",
    "    f = np.min(Q,D+np.max(0,D1,Q1)*(1-m))*P\n",
    "    df = np.zeros(2)\n",
    "    return f,df\n",
    "\n",
    "minimizer_kwargs = {\"method\":\"L-BFGS-B\",\"jac\":True}\n",
    "x0 = [1.0,1.0]\n",
    "ret = basinhopping(func2d,x0,minimizer_kwargs=minimizer_kwargs,niter=200)\n",
    "print(\"Global minimum:x = [%.4f,%.4f],f(x0) = %.4f\" %(ret.x[0],ret.x[1],ret.fun))"
   ]
  },
  {
   "cell_type": "markdown",
   "source": [],
   "metadata": {
    "collapsed": false,
    "pycharm": {
     "name": "#%% md\n"
    }
   }
  }
 ],
 "metadata": {
  "kernelspec": {
   "display_name": "Python 3",
   "language": "python",
   "name": "python3"
  },
  "language_info": {
   "codemirror_mode": {
    "name": "ipython",
    "version": 2
   },
   "file_extension": ".py",
   "mimetype": "text/x-python",
   "name": "python",
   "nbconvert_exporter": "python",
   "pygments_lexer": "ipython2",
   "version": "2.7.6"
  }
 },
 "nbformat": 4,
 "nbformat_minor": 0
}