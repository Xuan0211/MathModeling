{
 "cells": [
  {
   "cell_type": "code",
   "execution_count": 216,
   "outputs": [
    {
     "name": "stdout",
     "output_type": "stream",
     "text": [
      "           销售日期  102900005115823   102900005115908   102900005115779   \\\n",
      "0      2020/7/1            11.476             8.959            41.966   \n",
      "1      2020/7/2             6.806            14.275            44.873   \n",
      "2      2020/7/3            13.120             8.173            36.309   \n",
      "3      2020/7/4            28.186            13.034            51.205   \n",
      "4      2020/7/5            12.038            10.791            34.249   \n",
      "...         ...               ...               ...               ...   \n",
      "1090  2023/6/26             1.420             0.000             7.971   \n",
      "1091  2023/6/27             1.823             0.822             0.251   \n",
      "1092  2023/6/28             5.553             2.701             0.000   \n",
      "1093  2023/6/29             4.687             0.000             2.904   \n",
      "1094  2023/6/30             7.036             0.000             0.000   \n",
      "\n",
      "      102900005118824   102900005115984   102900005115762   102900005116714   \\\n",
      "0                4.119            32.579             6.841            34.554   \n",
      "1                4.342            27.056             8.112            30.109   \n",
      "2                9.572            36.709             7.694            26.460   \n",
      "3                3.107            43.330             0.000            42.815   \n",
      "4                4.019            12.594             6.021            42.365   \n",
      "...                ...               ...               ...               ...   \n",
      "1090             1.973             0.573             7.777             8.083   \n",
      "1091             3.947             0.293            11.061            14.272   \n",
      "1092             2.451             0.000             3.809            13.401   \n",
      "1093             3.477             0.000             8.868            15.180   \n",
      "1094             3.780             0.000             6.726            16.900   \n",
      "\n",
      "      102900005118817   102900051000944   ...  102900011032732   \\\n",
      "0                5.472             0.731  ...             0.000   \n",
      "1                0.000             0.258  ...             0.000   \n",
      "2                0.000             0.000  ...             0.000   \n",
      "3                0.000             2.332  ...             0.000   \n",
      "4                0.000             0.000  ...             0.000   \n",
      "...                ...               ...  ...               ...   \n",
      "1090             1.275             2.784  ...             0.785   \n",
      "1091             0.000             4.980  ...             0.245   \n",
      "1092             0.000             3.968  ...             0.000   \n",
      "1093             0.000             4.700  ...             2.365   \n",
      "1094             0.000             4.339  ...             0.512   \n",
      "\n",
      "      102900011032848   102900011033920   102900011034330   102900011034026   \\\n",
      "0                    0               0.0                 0             0.000   \n",
      "1                    0               0.0                 0             0.000   \n",
      "2                    0               0.0                 0             0.000   \n",
      "3                    0               0.0                 0             0.000   \n",
      "4                    0               0.0                 0             0.000   \n",
      "...                ...               ...               ...               ...   \n",
      "1090                 8               0.0                11             0.000   \n",
      "1091                 8               0.0                10             0.000   \n",
      "1092                 5               0.0                13             2.668   \n",
      "1093                 3               0.0                 7             9.187   \n",
      "1094                 9               0.0                 9            11.187   \n",
      "\n",
      "      102900011034439   102900011033982   102900011035078   102900011035740   \\\n",
      "0                    0             0.000             0.000                 0   \n",
      "1                    0             0.000             0.000                 0   \n",
      "2                    0             0.000             0.000                 0   \n",
      "3                    0             0.000             0.000                 0   \n",
      "4                    0             0.000             0.000                 0   \n",
      "...                ...               ...               ...               ...   \n",
      "1090                 1             0.000             1.905                 3   \n",
      "1091                 4             0.512             1.600                 1   \n",
      "1092                 2             0.000             1.325                 0   \n",
      "1093                 1             0.512             2.155                 0   \n",
      "1094                 4             0.000             1.920                 2   \n",
      "\n",
      "      102900011036686   \n",
      "0                    0  \n",
      "1                    0  \n",
      "2                    0  \n",
      "3                    0  \n",
      "4                    0  \n",
      "...                ...  \n",
      "1090                 0  \n",
      "1091                 1  \n",
      "1092                 0  \n",
      "1093                 1  \n",
      "1094                 1  \n",
      "\n",
      "[1095 rows x 49 columns]\n"
     ]
    }
   ],
   "source": [
    "import numpy as np\n",
    "import pandas as pd\n",
    "df = pd.read_csv(\"../data/销售量按日期单品合并_剔除后.csv\",encoding='utf-8')\n",
    "print(df)"
   ],
   "metadata": {
    "collapsed": false,
    "pycharm": {
     "name": "#%%\n"
    }
   }
  },
  {
   "cell_type": "code",
   "execution_count": 217,
   "outputs": [],
   "source": [
    "pl = pd.read_excel(\"../data/附件1.xlsx\")\n",
    "pl['单品编码'] = pl['单品编码'].astype(str)\n",
    "pl = pl.set_index('单品编码')"
   ],
   "metadata": {
    "collapsed": false,
    "pycharm": {
     "name": "#%%\n"
    }
   }
  },
  {
   "cell_type": "code",
   "execution_count": 218,
   "metadata": {
    "collapsed": true,
    "pycharm": {
     "name": "#%%\n"
    }
   },
   "outputs": [
    {
     "name": "stdout",
     "output_type": "stream",
     "text": [
      "Epoch 1/30\n",
      "725/725 - 2s - loss: 0.0170 - 2s/epoch - 3ms/step\n",
      "Epoch 2/30\n",
      "725/725 - 1s - loss: 0.0153 - 708ms/epoch - 977us/step\n",
      "Epoch 3/30\n",
      "725/725 - 1s - loss: 0.0152 - 675ms/epoch - 931us/step\n",
      "Epoch 4/30\n",
      "725/725 - 1s - loss: 0.0151 - 656ms/epoch - 905us/step\n",
      "Epoch 5/30\n",
      "725/725 - 1s - loss: 0.0150 - 628ms/epoch - 866us/step\n",
      "Epoch 6/30\n",
      "725/725 - 1s - loss: 0.0149 - 612ms/epoch - 844us/step\n",
      "Epoch 7/30\n",
      "725/725 - 1s - loss: 0.0148 - 608ms/epoch - 839us/step\n",
      "Epoch 8/30\n",
      "725/725 - 1s - loss: 0.0151 - 600ms/epoch - 828us/step\n",
      "Epoch 9/30\n",
      "725/725 - 1s - loss: 0.0147 - 628ms/epoch - 866us/step\n",
      "Epoch 10/30\n",
      "725/725 - 1s - loss: 0.0147 - 600ms/epoch - 828us/step\n",
      "Epoch 11/30\n",
      "725/725 - 1s - loss: 0.0148 - 598ms/epoch - 825us/step\n",
      "Epoch 12/30\n",
      "725/725 - 1s - loss: 0.0148 - 607ms/epoch - 837us/step\n",
      "Epoch 13/30\n",
      "725/725 - 1s - loss: 0.0147 - 601ms/epoch - 829us/step\n",
      "Epoch 14/30\n",
      "725/725 - 1s - loss: 0.0147 - 627ms/epoch - 865us/step\n",
      "Epoch 15/30\n",
      "725/725 - 1s - loss: 0.0147 - 592ms/epoch - 817us/step\n",
      "Epoch 16/30\n",
      "725/725 - 1s - loss: 0.0149 - 628ms/epoch - 866us/step\n",
      "Epoch 17/30\n",
      "725/725 - 1s - loss: 0.0144 - 598ms/epoch - 825us/step\n",
      "Epoch 18/30\n",
      "725/725 - 1s - loss: 0.0145 - 596ms/epoch - 822us/step\n",
      "Epoch 19/30\n",
      "725/725 - 1s - loss: 0.0145 - 594ms/epoch - 819us/step\n",
      "Epoch 20/30\n",
      "725/725 - 1s - loss: 0.0146 - 592ms/epoch - 817us/step\n",
      "Epoch 21/30\n",
      "725/725 - 1s - loss: 0.0148 - 613ms/epoch - 846us/step\n",
      "Epoch 22/30\n",
      "725/725 - 1s - loss: 0.0146 - 590ms/epoch - 814us/step\n",
      "Epoch 23/30\n",
      "725/725 - 1s - loss: 0.0146 - 585ms/epoch - 807us/step\n",
      "Epoch 24/30\n",
      "725/725 - 1s - loss: 0.0147 - 583ms/epoch - 804us/step\n",
      "Epoch 25/30\n",
      "725/725 - 1s - loss: 0.0147 - 586ms/epoch - 808us/step\n",
      "Epoch 26/30\n",
      "725/725 - 1s - loss: 0.0146 - 589ms/epoch - 812us/step\n",
      "Epoch 27/30\n",
      "725/725 - 1s - loss: 0.0145 - 591ms/epoch - 815us/step\n",
      "Epoch 28/30\n",
      "725/725 - 1s - loss: 0.0145 - 609ms/epoch - 841us/step\n",
      "Epoch 29/30\n",
      "725/725 - 1s - loss: 0.0145 - 594ms/epoch - 820us/step\n",
      "Epoch 30/30\n",
      "725/725 - 1s - loss: 0.0146 - 592ms/epoch - 817us/step\n",
      "23/23 [==============================] - 0s 858us/step\n",
      "12/12 [==============================] - 0s 910us/step\n",
      "Train Score: 5.18 RMSE\n",
      "Test Score: 2.94 RMSE\n"
     ]
    },
    {
     "data": {
      "text/plain": "<Figure size 432x288 with 1 Axes>",
      "image/png": "[encoded data removed]"
     },
     "metadata": {
      "needs_background": "light"
     },
     "output_type": "display_data"
    }
   ],
   "source": [
    "# LSTM for international airline passengers problem with regression framing\n",
    "import numpy as np\n",
    "import matplotlib.pyplot as plt\n",
    "from pandas import read_csv\n",
    "import math\n",
    "import tensorflow as tf\n",
    "from tensorflow.keras.models import Sequential\n",
    "from tensorflow.keras.layers import Dense\n",
    "from tensorflow.keras.layers import LSTM\n",
    "from sklearn.preprocessing import MinMaxScaler\n",
    "from sklearn.metrics import mean_squared_error\n",
    "# convert an array of values into a dataset matrix\n",
    "def create_dataset(dataset, look_back=1):\n",
    "\tdataX, dataY = [], []\n",
    "\tfor i in range(len(dataset)-look_back-1):\n",
    "\t\ta = dataset[i:(i+look_back), 0]\n",
    "\t\tdataX.append(a)\n",
    "\t\tdataY.append(dataset[i + look_back, 0])\n",
    "\treturn np.array(dataX), np.array(dataY)\n",
    "# fix random seed for reproducibility\n",
    "tf.random.set_seed(7)\n",
    "# load the dataset\n",
    "dataframe = df[['销售日期','102900005115823 ']]\n",
    "dataframe.set_index([\"销售日期\"], inplace=True)\n",
    "dataset = dataframe.values\n",
    "dataset = dataset.astype('float32')\n",
    "# normalize the dataset\n",
    "scaler = MinMaxScaler(feature_range=(0, 1))\n",
    "dataset = scaler.fit_transform(dataset)\n",
    "# split into train and test sets\n",
    "train_size = int(len(dataset) * 0.67)\n",
    "test_size = len(dataset) - train_size\n",
    "train, test = dataset[0:train_size,:], dataset[train_size:len(dataset),:]\n",
    "# reshape into X=t and Y=t+1\n",
    "look_back = 7\n",
    "trainX, trainY = create_dataset(train, look_back)\n",
    "testX, testY = create_dataset(test, look_back)\n",
    "# reshape input to be [samples, time steps, features]\n",
    "trainX = np.reshape(trainX, (trainX.shape[0], 1, trainX.shape[1]))\n",
    "testX = np.reshape(testX, (testX.shape[0], 1, testX.shape[1]))\n",
    "# create and fit the LSTM network\n",
    "model = Sequential()\n",
    "model.add(LSTM(30, input_shape=(1, look_back)))\n",
    "model.add(Dense(1))\n",
    "model.compile(loss='mean_squared_error', optimizer='adam')\n",
    "model.fit(trainX, trainY, epochs=30, batch_size=1, verbose=2)\n",
    "# make predictions\n",
    "trainPredict = model.predict(trainX)\n",
    "testPredict = model.predict(testX)\n",
    "# invert predictions\n",
    "trainPredict = scaler.inverse_transform(trainPredict)\n",
    "trainY = scaler.inverse_transform([trainY])\n",
    "testPredict = scaler.inverse_transform(testPredict)\n",
    "testY = scaler.inverse_transform([testY])\n",
    "# calculate root mean squared error\n",
    "trainScore = np.sqrt(mean_squared_error(trainY[0], trainPredict[:,0]))\n",
    "print('Train Score: %.2f RMSE' % (trainScore))\n",
    "testScore = np.sqrt(mean_squared_error(testY[0], testPredict[:,0]))\n",
    "print('Test Score: %.2f RMSE' % (testScore))\n",
    "# shift train predictions for plotting\n",
    "trainPredictPlot = np.empty_like(dataset)\n",
    "trainPredictPlot[:, :] = np.nan\n",
    "trainPredictPlot[look_back:len(trainPredict)+look_back, :] = trainPredict\n",
    "# shift test predictions for plotting\n",
    "testPredictPlot = np.empty_like(dataset)\n",
    "testPredictPlot[:, :] = np.nan\n",
    "testPredictPlot[len(trainPredict)+(look_back*2)+1:len(dataset)-1, :] = testPredict\n",
    "# plot baseline and predictions\n",
    "plt.plot(scaler.inverse_transform(dataset))\n",
    "plt.plot(trainPredictPlot)\n",
    "plt.plot(testPredictPlot)\n",
    "plt.show()"
   ]
  },
  {
   "cell_type": "code",
   "execution_count": 219,
   "outputs": [
    {
     "name": "stdout",
     "output_type": "stream",
     "text": [
      "1/1 [==============================] - 0s 31ms/step\n",
      "[[5.4688163]]\n"
     ]
    }
   ],
   "source": [
    "testFinal = dataset[-look_back:]\n",
    "testFinal = [pd.DataFrame(testFinal).T.values.tolist()]\n",
    "testFinalPredict = model.predict(testFinal)\n",
    "testFinalPredict = scaler.inverse_transform(testFinalPredict)\n",
    "print(testFinalPredict)"
   ],
   "metadata": {
    "collapsed": false,
    "pycharm": {
     "name": "#%%\n"
    }
   }
  },
  {
   "cell_type": "markdown",
   "source": [],
   "metadata": {
    "collapsed": false,
    "pycharm": {
     "name": "#%% md\n"
    }
   }
  },
  {
   "cell_type": "code",
   "execution_count": 220,
   "outputs": [
    {
     "name": "stdout",
     "output_type": "stream",
     "text": [
      "上海青\n",
      "Epoch 1/30\n",
      "1076/1076 - 2s - loss: 0.0133 - 2s/epoch - 2ms/step\n",
      "Epoch 2/30\n",
      "1076/1076 - 1s - loss: 0.0119 - 882ms/epoch - 819us/step\n",
      "Epoch 3/30\n"
     ]
    },
    {
     "ename": "KeyboardInterrupt",
     "evalue": "",
     "output_type": "error",
     "traceback": [
      "\u001B[1;31m---------------------------------------------------------------------------\u001B[0m",
      "\u001B[1;31mKeyboardInterrupt\u001B[0m                         Traceback (most recent call last)",
      "Input \u001B[1;32mIn [220]\u001B[0m, in \u001B[0;36m<cell line: 3>\u001B[1;34m()\u001B[0m\n\u001B[0;32m     30\u001B[0m model\u001B[38;5;241m.\u001B[39madd(Dense(\u001B[38;5;241m1\u001B[39m))\n\u001B[0;32m     31\u001B[0m model\u001B[38;5;241m.\u001B[39mcompile(loss\u001B[38;5;241m=\u001B[39m\u001B[38;5;124m'\u001B[39m\u001B[38;5;124mmean_squared_error\u001B[39m\u001B[38;5;124m'\u001B[39m, optimizer\u001B[38;5;241m=\u001B[39m\u001B[38;5;124m'\u001B[39m\u001B[38;5;124madam\u001B[39m\u001B[38;5;124m'\u001B[39m)\n\u001B[1;32m---> 32\u001B[0m \u001B[43mmodel\u001B[49m\u001B[38;5;241;43m.\u001B[39;49m\u001B[43mfit\u001B[49m\u001B[43m(\u001B[49m\u001B[43mtrainX\u001B[49m\u001B[43m,\u001B[49m\u001B[43m \u001B[49m\u001B[43mtrainY\u001B[49m\u001B[43m,\u001B[49m\u001B[43m \u001B[49m\u001B[43mepochs\u001B[49m\u001B[38;5;241;43m=\u001B[39;49m\u001B[38;5;241;43m30\u001B[39;49m\u001B[43m,\u001B[49m\u001B[43m \u001B[49m\u001B[43mbatch_size\u001B[49m\u001B[38;5;241;43m=\u001B[39;49m\u001B[38;5;241;43m1\u001B[39;49m\u001B[43m,\u001B[49m\u001B[43m \u001B[49m\u001B[43mverbose\u001B[49m\u001B[38;5;241;43m=\u001B[39;49m\u001B[38;5;241;43m2\u001B[39;49m\u001B[43m)\u001B[49m\n\u001B[0;32m     33\u001B[0m \u001B[38;5;66;03m# make predictions\u001B[39;00m\n\u001B[0;32m     34\u001B[0m trainPredict \u001B[38;5;241m=\u001B[39m model\u001B[38;5;241m.\u001B[39mpredict(trainX)\n",
      "File \u001B[1;32m~\\AppData\\Local\\Programs\\Python\\Python310\\lib\\site-packages\\keras\\utils\\traceback_utils.py:65\u001B[0m, in \u001B[0;36mfilter_traceback.<locals>.error_handler\u001B[1;34m(*args, **kwargs)\u001B[0m\n\u001B[0;32m     63\u001B[0m filtered_tb \u001B[38;5;241m=\u001B[39m \u001B[38;5;28;01mNone\u001B[39;00m\n\u001B[0;32m     64\u001B[0m \u001B[38;5;28;01mtry\u001B[39;00m:\n\u001B[1;32m---> 65\u001B[0m     \u001B[38;5;28;01mreturn\u001B[39;00m fn(\u001B[38;5;241m*\u001B[39margs, \u001B[38;5;241m*\u001B[39m\u001B[38;5;241m*\u001B[39mkwargs)\n\u001B[0;32m     66\u001B[0m \u001B[38;5;28;01mexcept\u001B[39;00m \u001B[38;5;167;01mException\u001B[39;00m \u001B[38;5;28;01mas\u001B[39;00m e:\n\u001B[0;32m     67\u001B[0m     filtered_tb \u001B[38;5;241m=\u001B[39m _process_traceback_frames(e\u001B[38;5;241m.\u001B[39m__traceback__)\n",
      "File \u001B[1;32m~\\AppData\\Local\\Programs\\Python\\Python310\\lib\\site-packages\\keras\\engine\\training.py:1564\u001B[0m, in \u001B[0;36mModel.fit\u001B[1;34m(self, x, y, batch_size, epochs, verbose, callbacks, validation_split, validation_data, shuffle, class_weight, sample_weight, initial_epoch, steps_per_epoch, validation_steps, validation_batch_size, validation_freq, max_queue_size, workers, use_multiprocessing)\u001B[0m\n\u001B[0;32m   1556\u001B[0m \u001B[38;5;28;01mwith\u001B[39;00m tf\u001B[38;5;241m.\u001B[39mprofiler\u001B[38;5;241m.\u001B[39mexperimental\u001B[38;5;241m.\u001B[39mTrace(\n\u001B[0;32m   1557\u001B[0m     \u001B[38;5;124m\"\u001B[39m\u001B[38;5;124mtrain\u001B[39m\u001B[38;5;124m\"\u001B[39m,\n\u001B[0;32m   1558\u001B[0m     epoch_num\u001B[38;5;241m=\u001B[39mepoch,\n\u001B[1;32m   (...)\u001B[0m\n\u001B[0;32m   1561\u001B[0m     _r\u001B[38;5;241m=\u001B[39m\u001B[38;5;241m1\u001B[39m,\n\u001B[0;32m   1562\u001B[0m ):\n\u001B[0;32m   1563\u001B[0m     callbacks\u001B[38;5;241m.\u001B[39mon_train_batch_begin(step)\n\u001B[1;32m-> 1564\u001B[0m     tmp_logs \u001B[38;5;241m=\u001B[39m \u001B[38;5;28;43mself\u001B[39;49m\u001B[38;5;241;43m.\u001B[39;49m\u001B[43mtrain_function\u001B[49m\u001B[43m(\u001B[49m\u001B[43miterator\u001B[49m\u001B[43m)\u001B[49m\n\u001B[0;32m   1565\u001B[0m     \u001B[38;5;28;01mif\u001B[39;00m data_handler\u001B[38;5;241m.\u001B[39mshould_sync:\n\u001B[0;32m   1566\u001B[0m         context\u001B[38;5;241m.\u001B[39masync_wait()\n",
      "File \u001B[1;32m~\\AppData\\Local\\Programs\\Python\\Python310\\lib\\site-packages\\tensorflow\\python\\util\\traceback_utils.py:150\u001B[0m, in \u001B[0;36mfilter_traceback.<locals>.error_handler\u001B[1;34m(*args, **kwargs)\u001B[0m\n\u001B[0;32m    148\u001B[0m filtered_tb \u001B[38;5;241m=\u001B[39m \u001B[38;5;28;01mNone\u001B[39;00m\n\u001B[0;32m    149\u001B[0m \u001B[38;5;28;01mtry\u001B[39;00m:\n\u001B[1;32m--> 150\u001B[0m   \u001B[38;5;28;01mreturn\u001B[39;00m fn(\u001B[38;5;241m*\u001B[39margs, \u001B[38;5;241m*\u001B[39m\u001B[38;5;241m*\u001B[39mkwargs)\n\u001B[0;32m    151\u001B[0m \u001B[38;5;28;01mexcept\u001B[39;00m \u001B[38;5;167;01mException\u001B[39;00m \u001B[38;5;28;01mas\u001B[39;00m e:\n\u001B[0;32m    152\u001B[0m   filtered_tb \u001B[38;5;241m=\u001B[39m _process_traceback_frames(e\u001B[38;5;241m.\u001B[39m__traceback__)\n",
      "File \u001B[1;32m~\\AppData\\Local\\Programs\\Python\\Python310\\lib\\site-packages\\tensorflow\\python\\eager\\def_function.py:915\u001B[0m, in \u001B[0;36mFunction.__call__\u001B[1;34m(self, *args, **kwds)\u001B[0m\n\u001B[0;32m    912\u001B[0m compiler \u001B[38;5;241m=\u001B[39m \u001B[38;5;124m\"\u001B[39m\u001B[38;5;124mxla\u001B[39m\u001B[38;5;124m\"\u001B[39m \u001B[38;5;28;01mif\u001B[39;00m \u001B[38;5;28mself\u001B[39m\u001B[38;5;241m.\u001B[39m_jit_compile \u001B[38;5;28;01melse\u001B[39;00m \u001B[38;5;124m\"\u001B[39m\u001B[38;5;124mnonXla\u001B[39m\u001B[38;5;124m\"\u001B[39m\n\u001B[0;32m    914\u001B[0m \u001B[38;5;28;01mwith\u001B[39;00m OptionalXlaContext(\u001B[38;5;28mself\u001B[39m\u001B[38;5;241m.\u001B[39m_jit_compile):\n\u001B[1;32m--> 915\u001B[0m   result \u001B[38;5;241m=\u001B[39m \u001B[38;5;28mself\u001B[39m\u001B[38;5;241m.\u001B[39m_call(\u001B[38;5;241m*\u001B[39margs, \u001B[38;5;241m*\u001B[39m\u001B[38;5;241m*\u001B[39mkwds)\n\u001B[0;32m    917\u001B[0m new_tracing_count \u001B[38;5;241m=\u001B[39m \u001B[38;5;28mself\u001B[39m\u001B[38;5;241m.\u001B[39mexperimental_get_tracing_count()\n\u001B[0;32m    918\u001B[0m without_tracing \u001B[38;5;241m=\u001B[39m (tracing_count \u001B[38;5;241m==\u001B[39m new_tracing_count)\n",
      "File \u001B[1;32m~\\AppData\\Local\\Programs\\Python\\Python310\\lib\\site-packages\\tensorflow\\python\\eager\\def_function.py:947\u001B[0m, in \u001B[0;36mFunction._call\u001B[1;34m(self, *args, **kwds)\u001B[0m\n\u001B[0;32m    944\u001B[0m   \u001B[38;5;28mself\u001B[39m\u001B[38;5;241m.\u001B[39m_lock\u001B[38;5;241m.\u001B[39mrelease()\n\u001B[0;32m    945\u001B[0m   \u001B[38;5;66;03m# In this case we have created variables on the first call, so we run the\u001B[39;00m\n\u001B[0;32m    946\u001B[0m   \u001B[38;5;66;03m# defunned version which is guaranteed to never create variables.\u001B[39;00m\n\u001B[1;32m--> 947\u001B[0m   \u001B[38;5;28;01mreturn\u001B[39;00m \u001B[38;5;28mself\u001B[39m\u001B[38;5;241m.\u001B[39m_stateless_fn(\u001B[38;5;241m*\u001B[39margs, \u001B[38;5;241m*\u001B[39m\u001B[38;5;241m*\u001B[39mkwds)  \u001B[38;5;66;03m# pylint: disable=not-callable\u001B[39;00m\n\u001B[0;32m    948\u001B[0m \u001B[38;5;28;01melif\u001B[39;00m \u001B[38;5;28mself\u001B[39m\u001B[38;5;241m.\u001B[39m_stateful_fn \u001B[38;5;129;01mis\u001B[39;00m \u001B[38;5;129;01mnot\u001B[39;00m \u001B[38;5;28;01mNone\u001B[39;00m:\n\u001B[0;32m    949\u001B[0m   \u001B[38;5;66;03m# Release the lock early so that multiple threads can perform the call\u001B[39;00m\n\u001B[0;32m    950\u001B[0m   \u001B[38;5;66;03m# in parallel.\u001B[39;00m\n\u001B[0;32m    951\u001B[0m   \u001B[38;5;28mself\u001B[39m\u001B[38;5;241m.\u001B[39m_lock\u001B[38;5;241m.\u001B[39mrelease()\n",
      "File \u001B[1;32m~\\AppData\\Local\\Programs\\Python\\Python310\\lib\\site-packages\\tensorflow\\python\\eager\\function.py:2496\u001B[0m, in \u001B[0;36mFunction.__call__\u001B[1;34m(self, *args, **kwargs)\u001B[0m\n\u001B[0;32m   2493\u001B[0m \u001B[38;5;28;01mwith\u001B[39;00m \u001B[38;5;28mself\u001B[39m\u001B[38;5;241m.\u001B[39m_lock:\n\u001B[0;32m   2494\u001B[0m   (graph_function,\n\u001B[0;32m   2495\u001B[0m    filtered_flat_args) \u001B[38;5;241m=\u001B[39m \u001B[38;5;28mself\u001B[39m\u001B[38;5;241m.\u001B[39m_maybe_define_function(args, kwargs)\n\u001B[1;32m-> 2496\u001B[0m \u001B[38;5;28;01mreturn\u001B[39;00m \u001B[43mgraph_function\u001B[49m\u001B[38;5;241;43m.\u001B[39;49m\u001B[43m_call_flat\u001B[49m\u001B[43m(\u001B[49m\n\u001B[0;32m   2497\u001B[0m \u001B[43m    \u001B[49m\u001B[43mfiltered_flat_args\u001B[49m\u001B[43m,\u001B[49m\u001B[43m \u001B[49m\u001B[43mcaptured_inputs\u001B[49m\u001B[38;5;241;43m=\u001B[39;49m\u001B[43mgraph_function\u001B[49m\u001B[38;5;241;43m.\u001B[39;49m\u001B[43mcaptured_inputs\u001B[49m\u001B[43m)\u001B[49m\n",
      "File \u001B[1;32m~\\AppData\\Local\\Programs\\Python\\Python310\\lib\\site-packages\\tensorflow\\python\\eager\\function.py:1862\u001B[0m, in \u001B[0;36mConcreteFunction._call_flat\u001B[1;34m(self, args, captured_inputs, cancellation_manager)\u001B[0m\n\u001B[0;32m   1858\u001B[0m possible_gradient_type \u001B[38;5;241m=\u001B[39m gradients_util\u001B[38;5;241m.\u001B[39mPossibleTapeGradientTypes(args)\n\u001B[0;32m   1859\u001B[0m \u001B[38;5;28;01mif\u001B[39;00m (possible_gradient_type \u001B[38;5;241m==\u001B[39m gradients_util\u001B[38;5;241m.\u001B[39mPOSSIBLE_GRADIENT_TYPES_NONE\n\u001B[0;32m   1860\u001B[0m     \u001B[38;5;129;01mand\u001B[39;00m executing_eagerly):\n\u001B[0;32m   1861\u001B[0m   \u001B[38;5;66;03m# No tape is watching; skip to running the function.\u001B[39;00m\n\u001B[1;32m-> 1862\u001B[0m   \u001B[38;5;28;01mreturn\u001B[39;00m \u001B[38;5;28mself\u001B[39m\u001B[38;5;241m.\u001B[39m_build_call_outputs(\u001B[38;5;28;43mself\u001B[39;49m\u001B[38;5;241;43m.\u001B[39;49m\u001B[43m_inference_function\u001B[49m\u001B[38;5;241;43m.\u001B[39;49m\u001B[43mcall\u001B[49m\u001B[43m(\u001B[49m\n\u001B[0;32m   1863\u001B[0m \u001B[43m      \u001B[49m\u001B[43mctx\u001B[49m\u001B[43m,\u001B[49m\u001B[43m \u001B[49m\u001B[43margs\u001B[49m\u001B[43m,\u001B[49m\u001B[43m \u001B[49m\u001B[43mcancellation_manager\u001B[49m\u001B[38;5;241;43m=\u001B[39;49m\u001B[43mcancellation_manager\u001B[49m\u001B[43m)\u001B[49m)\n\u001B[0;32m   1864\u001B[0m forward_backward \u001B[38;5;241m=\u001B[39m \u001B[38;5;28mself\u001B[39m\u001B[38;5;241m.\u001B[39m_select_forward_and_backward_functions(\n\u001B[0;32m   1865\u001B[0m     args,\n\u001B[0;32m   1866\u001B[0m     possible_gradient_type,\n\u001B[0;32m   1867\u001B[0m     executing_eagerly)\n\u001B[0;32m   1868\u001B[0m forward_function, args_with_tangents \u001B[38;5;241m=\u001B[39m forward_backward\u001B[38;5;241m.\u001B[39mforward()\n",
      "File \u001B[1;32m~\\AppData\\Local\\Programs\\Python\\Python310\\lib\\site-packages\\tensorflow\\python\\eager\\function.py:499\u001B[0m, in \u001B[0;36m_EagerDefinedFunction.call\u001B[1;34m(self, ctx, args, cancellation_manager)\u001B[0m\n\u001B[0;32m    497\u001B[0m \u001B[38;5;28;01mwith\u001B[39;00m _InterpolateFunctionError(\u001B[38;5;28mself\u001B[39m):\n\u001B[0;32m    498\u001B[0m   \u001B[38;5;28;01mif\u001B[39;00m cancellation_manager \u001B[38;5;129;01mis\u001B[39;00m \u001B[38;5;28;01mNone\u001B[39;00m:\n\u001B[1;32m--> 499\u001B[0m     outputs \u001B[38;5;241m=\u001B[39m \u001B[43mexecute\u001B[49m\u001B[38;5;241;43m.\u001B[39;49m\u001B[43mexecute\u001B[49m\u001B[43m(\u001B[49m\n\u001B[0;32m    500\u001B[0m \u001B[43m        \u001B[49m\u001B[38;5;28;43mstr\u001B[39;49m\u001B[43m(\u001B[49m\u001B[38;5;28;43mself\u001B[39;49m\u001B[38;5;241;43m.\u001B[39;49m\u001B[43msignature\u001B[49m\u001B[38;5;241;43m.\u001B[39;49m\u001B[43mname\u001B[49m\u001B[43m)\u001B[49m\u001B[43m,\u001B[49m\n\u001B[0;32m    501\u001B[0m \u001B[43m        \u001B[49m\u001B[43mnum_outputs\u001B[49m\u001B[38;5;241;43m=\u001B[39;49m\u001B[38;5;28;43mself\u001B[39;49m\u001B[38;5;241;43m.\u001B[39;49m\u001B[43m_num_outputs\u001B[49m\u001B[43m,\u001B[49m\n\u001B[0;32m    502\u001B[0m \u001B[43m        \u001B[49m\u001B[43minputs\u001B[49m\u001B[38;5;241;43m=\u001B[39;49m\u001B[43margs\u001B[49m\u001B[43m,\u001B[49m\n\u001B[0;32m    503\u001B[0m \u001B[43m        \u001B[49m\u001B[43mattrs\u001B[49m\u001B[38;5;241;43m=\u001B[39;49m\u001B[43mattrs\u001B[49m\u001B[43m,\u001B[49m\n\u001B[0;32m    504\u001B[0m \u001B[43m        \u001B[49m\u001B[43mctx\u001B[49m\u001B[38;5;241;43m=\u001B[39;49m\u001B[43mctx\u001B[49m\u001B[43m)\u001B[49m\n\u001B[0;32m    505\u001B[0m   \u001B[38;5;28;01melse\u001B[39;00m:\n\u001B[0;32m    506\u001B[0m     outputs \u001B[38;5;241m=\u001B[39m execute\u001B[38;5;241m.\u001B[39mexecute_with_cancellation(\n\u001B[0;32m    507\u001B[0m         \u001B[38;5;28mstr\u001B[39m(\u001B[38;5;28mself\u001B[39m\u001B[38;5;241m.\u001B[39msignature\u001B[38;5;241m.\u001B[39mname),\n\u001B[0;32m    508\u001B[0m         num_outputs\u001B[38;5;241m=\u001B[39m\u001B[38;5;28mself\u001B[39m\u001B[38;5;241m.\u001B[39m_num_outputs,\n\u001B[1;32m   (...)\u001B[0m\n\u001B[0;32m    511\u001B[0m         ctx\u001B[38;5;241m=\u001B[39mctx,\n\u001B[0;32m    512\u001B[0m         cancellation_manager\u001B[38;5;241m=\u001B[39mcancellation_manager)\n",
      "File \u001B[1;32m~\\AppData\\Local\\Programs\\Python\\Python310\\lib\\site-packages\\tensorflow\\python\\eager\\execute.py:54\u001B[0m, in \u001B[0;36mquick_execute\u001B[1;34m(op_name, num_outputs, inputs, attrs, ctx, name)\u001B[0m\n\u001B[0;32m     52\u001B[0m \u001B[38;5;28;01mtry\u001B[39;00m:\n\u001B[0;32m     53\u001B[0m   ctx\u001B[38;5;241m.\u001B[39mensure_initialized()\n\u001B[1;32m---> 54\u001B[0m   tensors \u001B[38;5;241m=\u001B[39m \u001B[43mpywrap_tfe\u001B[49m\u001B[38;5;241;43m.\u001B[39;49m\u001B[43mTFE_Py_Execute\u001B[49m\u001B[43m(\u001B[49m\u001B[43mctx\u001B[49m\u001B[38;5;241;43m.\u001B[39;49m\u001B[43m_handle\u001B[49m\u001B[43m,\u001B[49m\u001B[43m \u001B[49m\u001B[43mdevice_name\u001B[49m\u001B[43m,\u001B[49m\u001B[43m \u001B[49m\u001B[43mop_name\u001B[49m\u001B[43m,\u001B[49m\n\u001B[0;32m     55\u001B[0m \u001B[43m                                      \u001B[49m\u001B[43minputs\u001B[49m\u001B[43m,\u001B[49m\u001B[43m \u001B[49m\u001B[43mattrs\u001B[49m\u001B[43m,\u001B[49m\u001B[43m \u001B[49m\u001B[43mnum_outputs\u001B[49m\u001B[43m)\u001B[49m\n\u001B[0;32m     56\u001B[0m \u001B[38;5;28;01mexcept\u001B[39;00m core\u001B[38;5;241m.\u001B[39m_NotOkStatusException \u001B[38;5;28;01mas\u001B[39;00m e:\n\u001B[0;32m     57\u001B[0m   \u001B[38;5;28;01mif\u001B[39;00m name \u001B[38;5;129;01mis\u001B[39;00m \u001B[38;5;129;01mnot\u001B[39;00m \u001B[38;5;28;01mNone\u001B[39;00m:\n",
      "\u001B[1;31mKeyboardInterrupt\u001B[0m: "
     ]
    }
   ],
   "source": [
    "predict = pd.DataFrame([])\n",
    "RMSE = pd.DataFrame([])\n",
    "for index in df:\n",
    "\tif index == '销售日期':\n",
    "\t\tcontinue\n",
    "\t# load the dataset\n",
    "\tname_CN = pl.loc[index[:-1]]['单品名称']\n",
    "\tprint(name_CN)\n",
    "\tdataframe = df[['销售日期',index]]\n",
    "\tdataframe.set_index([\"销售日期\"], inplace=True)\n",
    "\tdataset = dataframe.values\n",
    "\tdataset = dataset.astype('float32')\n",
    "\t# normalize the dataset\n",
    "\tscaler = MinMaxScaler(feature_range=(0, 1))\n",
    "\tdataset = scaler.fit_transform(dataset)\n",
    "\t# split into train and test sets\n",
    "\ttrain_size = int(len(dataset) * 0.99)\n",
    "\ttest_size = len(dataset) - train_size\n",
    "\ttrain, test = dataset[0:train_size,:], dataset[train_size:len(dataset),:]\n",
    "\t# reshape into X=t and Y=t+1\n",
    "\tlook_back = 7\n",
    "\ttrainX, trainY = create_dataset(train, look_back)\n",
    "\ttestX, testY = create_dataset(test, look_back)\n",
    "\t# reshape input to be [samples, time steps, features]\n",
    "\ttrainX = np.reshape(trainX, (trainX.shape[0], 1, trainX.shape[1]))\n",
    "\ttestX = np.reshape(testX, (testX.shape[0], 1, testX.shape[1]))\n",
    "\t# create and fit the LSTM network\n",
    "\tmodel = Sequential()\n",
    "\tmodel.add(LSTM(30, input_shape=(1, look_back)))\n",
    "\tmodel.add(Dense(1))\n",
    "\tmodel.compile(loss='mean_squared_error', optimizer='adam')\n",
    "\tmodel.fit(trainX, trainY, epochs=30, batch_size=1, verbose=2)\n",
    "\t# make predictions\n",
    "\ttrainPredict = model.predict(trainX)\n",
    "\ttestPredict = model.predict(testX)\n",
    "\t# invert predictions\n",
    "\ttrainPredict = scaler.inverse_transform(trainPredict)\n",
    "\ttrainY = scaler.inverse_transform([trainY])\n",
    "\ttestPredict = scaler.inverse_transform(testPredict)\n",
    "\ttestY = scaler.inverse_transform([testY])\n",
    "\t# calculate root mean squared error\n",
    "\ttrainScore = np.sqrt(mean_squared_error(trainY[0], trainPredict[:,0]))\n",
    "\tprint('Train Score: %.2f RMSE' % (trainScore))\n",
    "\ttestScore = np.sqrt(mean_squared_error(testY[0], testPredict[:,0]))\n",
    "\tprint('Test Score: %.2f RMSE' % (testScore))\n",
    "\tRMSE[name_CN] = trainScore\n",
    "\t# shift train predictions for plotting\n",
    "\ttrainPredictPlot = np.empty_like(dataset)\n",
    "\ttrainPredictPlot[:, :] = np.nan\n",
    "\ttrainPredictPlot[look_back:len(trainPredict)+look_back, :] = trainPredict\n",
    "\t# shift test predictions for plotting\n",
    "\ttestPredictPlot = np.empty_like(dataset)\n",
    "\ttestPredictPlot[:, :] = np.nan\n",
    "\ttestPredictPlot[len(trainPredict)+(look_back*2)+1:len(dataset)-1, :] = testPredict\n",
    "\t# plot baseline and predictions\n",
    "\tplt.plot(scaler.inverse_transform(dataset))\n",
    "\tplt.plot(trainPredictPlot)\n",
    "\tplt.plot(testPredictPlot)\n",
    "\tplt.show()\n",
    "\n",
    "\ttestFinal = dataset[-look_back:]\n",
    "\ttestFinal = [pd.DataFrame(testFinal).T.values.tolist()]\n",
    "\ttestFinalPredict = model.predict(testFinal)\n",
    "\ttestFinalPredict = scaler.inverse_transform(testFinalPredict)\n",
    "\tprint(testFinalPredict)\n",
    "\tpredict[name_CN] = testFinalPredict[0]\n",
    "\n",
    "\tprint(\"--------------------------\")"
   ],
   "metadata": {
    "collapsed": false,
    "pycharm": {
     "name": "#%%\n"
    }
   }
  },
  {
   "cell_type": "code",
   "execution_count": null,
   "outputs": [],
   "source": [
    "print(RMSE)\n",
    "print(predict)"
   ],
   "metadata": {
    "collapsed": false,
    "pycharm": {
     "name": "#%%\n"
    }
   }
  },
  {
   "cell_type": "code",
   "execution_count": null,
   "outputs": [],
   "source": [
    "RMSE.to_csv('../data/销售量RMSE.csv',sep=',',encoding='utf_8_sig')\n",
    "predict.to_csv('../data/销售量7月1日预估.csv',sep=',',encoding='utf_8_sig')"
   ],
   "metadata": {
    "collapsed": false,
    "pycharm": {
     "name": "#%%\n"
    }
   }
  },
  {
   "cell_type": "code",
   "execution_count": null,
   "outputs": [],
   "source": [],
   "metadata": {
    "collapsed": false,
    "pycharm": {
     "name": "#%%\n"
    }
   }
  }
 ],
 "metadata": {
  "kernelspec": {
   "display_name": "Python 3",
   "language": "python",
   "name": "python3"
  },
  "language_info": {
   "codemirror_mode": {
    "name": "ipython",
    "version": 2
   },
   "file_extension": ".py",
   "mimetype": "text/x-python",
   "name": "python",
   "nbconvert_exporter": "python",
   "pygments_lexer": "ipython2",
   "version": "2.7.6"
  }
 },
 "nbformat": 4,
 "nbformat_minor": 0
}