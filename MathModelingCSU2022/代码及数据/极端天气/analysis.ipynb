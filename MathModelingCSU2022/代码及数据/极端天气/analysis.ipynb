{
 "cells": [
  {
   "cell_type": "code",
   "execution_count": 13,
   "metadata": {
    "pycharm": {
     "name": "#%%\n"
    }
   },
   "outputs": [
    {
     "name": "stdout",
     "output_type": "stream",
     "text": [
      "%pylab is deprecated, use %matplotlib inline and import the required libraries.\n",
      "Populating the interactive namespace from numpy and matplotlib\n"
     ]
    }
   ],
   "source": [
    "# import packages\n",
    "import numpy as np\n",
    "import pandas as pd\n",
    "import seaborn as sns\n",
    "import matplotlib.pyplot as plt\n",
    "from pandas.plotting import scatter_matrix\n",
    "from matplotlib import cm\n",
    "from scipy.stats import pearsonr\n",
    "%pylab inline\n",
    "import urllib\n",
    "from pylab import *\n",
    "from matplotlib.font_manager import FontProperties\n",
    "import matplotlib.pyplot as plt\n",
    "#支持中文\n",
    "mpl.rcParams['font.sans-serif'] = ['SimHei']"
   ]
  },
  {
   "cell_type": "code",
   "execution_count": 14,
   "metadata": {
    "pycharm": {
     "name": "#%%\n"
    }
   },
   "outputs": [
    {
     "data": {
      "text/plain": "                    气象站                名称  降雨量   降雪量  最高气温  最低气温     雾   大雾  \\\n日期                                                                            \n1950-01-01  USW00094746  WORCESTER, MA US  0.0  0.00   0.0  40.0  27.0  0.0   \n1950-01-02  USW00094746  WORCESTER, MA US  0.0  0.04   0.0  37.0  28.0  1.0   \n1950-01-03  USW00094746  WORCESTER, MA US  0.0  0.27   0.0  51.0  35.0  1.0   \n1950-01-04  USW00094746  WORCESTER, MA US  0.0  0.00   0.0  60.0  50.0  1.0   \n1950-01-05  USW00094746  WORCESTER, MA US  0.0  0.03   0.0  58.0  41.0  1.0   \n\n             雷电   冰丸  ...    风   大风  薄雾  毛毛雨   冻雨    雨   结冰   下雪   冰雾  极端天气  \n日期                    ...                                                    \n1950-01-01  0.0  0.0  ...  1.0  0.0      0.0  0.0  0.0  1.0  0.0  0.0     1  \n1950-01-02  0.0  0.0  ...  1.0  0.0   0  0.0  0.0  0.0  1.0  0.0  0.0     1  \n1950-01-03  0.0  0.0  ...  0.0  0.0   0  0.0  0.0  0.0  1.0  0.0  0.0     1  \n1950-01-04  0.0  0.0  ...  0.0  0.0   0  0.0  0.0  0.0  1.0  0.0  0.0     1  \n1950-01-05  0.0  0.0  ...  0.0  0.0   0  0.0  0.0  0.0  1.0  0.0  0.0     1  \n\n[5 rows x 24 columns]",
      "text/html": "<div>\n<style scoped>\n    .dataframe tbody tr th:only-of-type {\n        vertical-align: middle;\n    }\n\n    .dataframe tbody tr th {\n        vertical-align: top;\n    }\n\n    .dataframe thead th {\n        text-align: right;\n    }\n</style>\n<table border=\"1\" class=\"dataframe\">\n  <thead>\n    <tr style=\"text-align: right;\">\n      <th></th>\n      <th>气象站</th>\n      <th>名称</th>\n      <th>降雨量</th>\n      <th>降雪量</th>\n      <th>最高气温</th>\n      <th>最低气温</th>\n      <th>雾</th>\n      <th>大雾</th>\n      <th>雷电</th>\n      <th>冰丸</th>\n      <th>...</th>\n      <th>风</th>\n      <th>大风</th>\n      <th>薄雾</th>\n      <th>毛毛雨</th>\n      <th>冻雨</th>\n      <th>雨</th>\n      <th>结冰</th>\n      <th>下雪</th>\n      <th>冰雾</th>\n      <th>极端天气</th>\n    </tr>\n    <tr>\n      <th>日期</th>\n      <th></th>\n      <th></th>\n      <th></th>\n      <th></th>\n      <th></th>\n      <th></th>\n      <th></th>\n      <th></th>\n      <th></th>\n      <th></th>\n      <th></th>\n      <th></th>\n      <th></th>\n      <th></th>\n      <th></th>\n      <th></th>\n      <th></th>\n      <th></th>\n      <th></th>\n      <th></th>\n      <th></th>\n    </tr>\n  </thead>\n  <tbody>\n    <tr>\n      <th>1950-01-01</th>\n      <td>USW00094746</td>\n      <td>WORCESTER, MA US</td>\n      <td>0.0</td>\n      <td>0.00</td>\n      <td>0.0</td>\n      <td>40.0</td>\n      <td>27.0</td>\n      <td>0.0</td>\n      <td>0.0</td>\n      <td>0.0</td>\n      <td>...</td>\n      <td>1.0</td>\n      <td>0.0</td>\n      <td></td>\n      <td>0.0</td>\n      <td>0.0</td>\n      <td>0.0</td>\n      <td>1.0</td>\n      <td>0.0</td>\n      <td>0.0</td>\n      <td>1</td>\n    </tr>\n    <tr>\n      <th>1950-01-02</th>\n      <td>USW00094746</td>\n      <td>WORCESTER, MA US</td>\n      <td>0.0</td>\n      <td>0.04</td>\n      <td>0.0</td>\n      <td>37.0</td>\n      <td>28.0</td>\n      <td>1.0</td>\n      <td>0.0</td>\n      <td>0.0</td>\n      <td>...</td>\n      <td>1.0</td>\n      <td>0.0</td>\n      <td>0</td>\n      <td>0.0</td>\n      <td>0.0</td>\n      <td>0.0</td>\n      <td>1.0</td>\n      <td>0.0</td>\n      <td>0.0</td>\n      <td>1</td>\n    </tr>\n    <tr>\n      <th>1950-01-03</th>\n      <td>USW00094746</td>\n      <td>WORCESTER, MA US</td>\n      <td>0.0</td>\n      <td>0.27</td>\n      <td>0.0</td>\n      <td>51.0</td>\n      <td>35.0</td>\n      <td>1.0</td>\n      <td>0.0</td>\n      <td>0.0</td>\n      <td>...</td>\n      <td>0.0</td>\n      <td>0.0</td>\n      <td>0</td>\n      <td>0.0</td>\n      <td>0.0</td>\n      <td>0.0</td>\n      <td>1.0</td>\n      <td>0.0</td>\n      <td>0.0</td>\n      <td>1</td>\n    </tr>\n    <tr>\n      <th>1950-01-04</th>\n      <td>USW00094746</td>\n      <td>WORCESTER, MA US</td>\n      <td>0.0</td>\n      <td>0.00</td>\n      <td>0.0</td>\n      <td>60.0</td>\n      <td>50.0</td>\n      <td>1.0</td>\n      <td>0.0</td>\n      <td>0.0</td>\n      <td>...</td>\n      <td>0.0</td>\n      <td>0.0</td>\n      <td>0</td>\n      <td>0.0</td>\n      <td>0.0</td>\n      <td>0.0</td>\n      <td>1.0</td>\n      <td>0.0</td>\n      <td>0.0</td>\n      <td>1</td>\n    </tr>\n    <tr>\n      <th>1950-01-05</th>\n      <td>USW00094746</td>\n      <td>WORCESTER, MA US</td>\n      <td>0.0</td>\n      <td>0.03</td>\n      <td>0.0</td>\n      <td>58.0</td>\n      <td>41.0</td>\n      <td>1.0</td>\n      <td>0.0</td>\n      <td>0.0</td>\n      <td>...</td>\n      <td>0.0</td>\n      <td>0.0</td>\n      <td>0</td>\n      <td>0.0</td>\n      <td>0.0</td>\n      <td>0.0</td>\n      <td>1.0</td>\n      <td>0.0</td>\n      <td>0.0</td>\n      <td>1</td>\n    </tr>\n  </tbody>\n</table>\n<p>5 rows × 24 columns</p>\n</div>"
     },
     "execution_count": 14,
     "metadata": {},
     "output_type": "execute_result"
    }
   ],
   "source": [
    "weather = pd.read_csv('weather_data_1960-2018_cleaned.csv')\n",
    "weather.set_index('日期', inplace=True)\n",
    "weather.index = pd.to_datetime(weather.index)\n",
    "weather.head()"
   ]
  },
  {
   "cell_type": "code",
   "execution_count": 15,
   "metadata": {
    "pycharm": {
     "name": "#%%\n"
    }
   },
   "outputs": [
    {
     "data": {
      "text/plain": "            降雨量   降雪量  最高气温  最低气温  极端天气\n日期                                     \n1950-01-01  0.0  0.00   0.0  40.0     1\n1950-01-02  0.0  0.04   0.0  37.0     1\n1950-01-03  0.0  0.27   0.0  51.0     1\n1950-01-04  0.0  0.00   0.0  60.0     1\n1950-01-05  0.0  0.03   0.0  58.0     1",
      "text/html": "<div>\n<style scoped>\n    .dataframe tbody tr th:only-of-type {\n        vertical-align: middle;\n    }\n\n    .dataframe tbody tr th {\n        vertical-align: top;\n    }\n\n    .dataframe thead th {\n        text-align: right;\n    }\n</style>\n<table border=\"1\" class=\"dataframe\">\n  <thead>\n    <tr style=\"text-align: right;\">\n      <th></th>\n      <th>降雨量</th>\n      <th>降雪量</th>\n      <th>最高气温</th>\n      <th>最低气温</th>\n      <th>极端天气</th>\n    </tr>\n    <tr>\n      <th>日期</th>\n      <th></th>\n      <th></th>\n      <th></th>\n      <th></th>\n      <th></th>\n    </tr>\n  </thead>\n  <tbody>\n    <tr>\n      <th>1950-01-01</th>\n      <td>0.0</td>\n      <td>0.00</td>\n      <td>0.0</td>\n      <td>40.0</td>\n      <td>1</td>\n    </tr>\n    <tr>\n      <th>1950-01-02</th>\n      <td>0.0</td>\n      <td>0.04</td>\n      <td>0.0</td>\n      <td>37.0</td>\n      <td>1</td>\n    </tr>\n    <tr>\n      <th>1950-01-03</th>\n      <td>0.0</td>\n      <td>0.27</td>\n      <td>0.0</td>\n      <td>51.0</td>\n      <td>1</td>\n    </tr>\n    <tr>\n      <th>1950-01-04</th>\n      <td>0.0</td>\n      <td>0.00</td>\n      <td>0.0</td>\n      <td>60.0</td>\n      <td>1</td>\n    </tr>\n    <tr>\n      <th>1950-01-05</th>\n      <td>0.0</td>\n      <td>0.03</td>\n      <td>0.0</td>\n      <td>58.0</td>\n      <td>1</td>\n    </tr>\n  </tbody>\n</table>\n</div>"
     },
     "execution_count": 15,
     "metadata": {},
     "output_type": "execute_result"
    }
   ],
   "source": [
    "weather = weather[['降雨量','降雪量','最高气温','最低气温','极端天气']]\n",
    "weather.head()"
   ]
  },
  {
   "cell_type": "code",
   "execution_count": 16,
   "metadata": {
    "pycharm": {
     "name": "#%%\n"
    }
   },
   "outputs": [
    {
     "name": "stdout",
     "output_type": "stream",
     "text": [
      "<class 'pandas.core.frame.DataFrame'>\n",
      "DatetimeIndex: 22734 entries, 1950-01-01 to 2018-01-01\n",
      "Data columns (total 5 columns):\n",
      " #   Column  Non-Null Count  Dtype  \n",
      "---  ------  --------------  -----  \n",
      " 0   降雨量     22734 non-null  float64\n",
      " 1   降雪量     22734 non-null  float64\n",
      " 2   最高气温    22734 non-null  float64\n",
      " 3   最低气温    22734 non-null  float64\n",
      " 4   极端天气    22734 non-null  int64  \n",
      "dtypes: float64(4), int64(1)\n",
      "memory usage: 1.0 MB\n"
     ]
    }
   ],
   "source": [
    "weather.info()"
   ]
  },
  {
   "cell_type": "code",
   "execution_count": 17,
   "metadata": {
    "pycharm": {
     "name": "#%%\n"
    }
   },
   "outputs": [
    {
     "name": "stdout",
     "output_type": "stream",
     "text": [
      "(22734, 5)\n"
     ]
    }
   ],
   "source": [
    "print(weather.shape)"
   ]
  },
  {
   "cell_type": "code",
   "execution_count": 18,
   "metadata": {
    "pycharm": {
     "name": "#%%\n"
    }
   },
   "outputs": [
    {
     "name": "stdout",
     "output_type": "stream",
     "text": [
      "极端天气\n",
      "0    12375\n",
      "1    10359\n",
      "Name: 降雪量, dtype: int64\n"
     ]
    },
    {
     "data": {
      "text/plain": "<Figure size 432x288 with 1 Axes>",
      "image/png": "[encoded data removed]"
     },
     "metadata": {
      "needs_background": "light"
     },
     "output_type": "display_data"
    }
   ],
   "source": [
    "print(weather.groupby(['极端天气']).count()['降雪量'])\n",
    "sns.countplot(data = weather,x = '极端天气')\n",
    "plt.show()"
   ]
  },
  {
   "cell_type": "code",
   "execution_count": 19,
   "metadata": {
    "pycharm": {
     "name": "#%%\n"
    }
   },
   "outputs": [
    {
     "data": {
      "text/plain": "<Figure size 1080x360 with 1 Axes>",
      "image/png": "[encoded data removed]"
     },
     "metadata": {
      "needs_background": "light"
     },
     "output_type": "display_data"
    }
   ],
   "source": [
    "weather['year']= weather.index.year\n",
    "extreme_weather = weather[weather['极端天气'] == 1].groupby('year').count()['降雪量']\n",
    "extreme_weather.plot(kind = 'bar', figsize=(15,5))\n",
    "plt.title('极端天气数量 1961-2018')\n",
    "plt.show()"
   ]
  },
  {
   "cell_type": "code",
   "execution_count": 20,
   "metadata": {
    "pycharm": {
     "name": "#%%\n"
    }
   },
   "outputs": [
    {
     "data": {
      "text/plain": "           降雨量       降雪量      最高气温       最低气温\n极端天气                                         \n0     5.014294  0.031953  0.059160  54.334707\n1     6.089997  0.248504  0.298822  57.985037",
      "text/html": "<div>\n<style scoped>\n    .dataframe tbody tr th:only-of-type {\n        vertical-align: middle;\n    }\n\n    .dataframe tbody tr th {\n        vertical-align: top;\n    }\n\n    .dataframe thead th {\n        text-align: right;\n    }\n</style>\n<table border=\"1\" class=\"dataframe\">\n  <thead>\n    <tr style=\"text-align: right;\">\n      <th></th>\n      <th>降雨量</th>\n      <th>降雪量</th>\n      <th>最高气温</th>\n      <th>最低气温</th>\n    </tr>\n    <tr>\n      <th>极端天气</th>\n      <th></th>\n      <th></th>\n      <th></th>\n      <th></th>\n    </tr>\n  </thead>\n  <tbody>\n    <tr>\n      <th>0</th>\n      <td>5.014294</td>\n      <td>0.031953</td>\n      <td>0.059160</td>\n      <td>54.334707</td>\n    </tr>\n    <tr>\n      <th>1</th>\n      <td>6.089997</td>\n      <td>0.248504</td>\n      <td>0.298822</td>\n      <td>57.985037</td>\n    </tr>\n  </tbody>\n</table>\n</div>"
     },
     "execution_count": 20,
     "metadata": {},
     "output_type": "execute_result"
    }
   ],
   "source": [
    "weather.groupby('极端天气',as_index = True).agg({'降雨量':'mean','降雪量':'mean','最高气温':'mean','最低气温':'mean'})"
   ]
  },
  {
   "cell_type": "code",
   "execution_count": 21,
   "metadata": {
    "scrolled": true,
    "pycharm": {
     "name": "#%%\n"
    }
   },
   "outputs": [
    {
     "data": {
      "text/plain": "<Figure size 432x288 with 1 Axes>",
      "image/png": "[encoded data removed]"
     },
     "metadata": {
      "needs_background": "light"
     },
     "output_type": "display_data"
    }
   ],
   "source": [
    "weather.groupby('极端天气',as_index = True).agg({'降雨量':'mean','降雪量':'mean'}).plot(kind = 'bar')\n",
    "plt.show()"
   ]
  },
  {
   "cell_type": "code",
   "execution_count": 22,
   "metadata": {
    "scrolled": true,
    "pycharm": {
     "name": "#%%\n"
    }
   },
   "outputs": [
    {
     "data": {
      "text/plain": "<Figure size 432x288 with 1 Axes>",
      "image/png": "[encoded data removed]"
     },
     "metadata": {
      "needs_background": "light"
     },
     "output_type": "display_data"
    }
   ],
   "source": [
    "weather.groupby('极端天气',as_index = True).agg({'最高气温':'mean','最低气温':'mean'}).plot(kind = 'bar')\n",
    "plt.show()"
   ]
  },
  {
   "cell_type": "code",
   "execution_count": 23,
   "metadata": {
    "pycharm": {
     "name": "#%%\n"
    }
   },
   "outputs": [
    {
     "name": "stdout",
     "output_type": "stream",
     "text": [
      "The correlation between Precipitation and the Extreme weather is 0.09246543636604596\n",
      "The correlation between Snowfall and the Extreme weather is 0.31017591543065487\n",
      "The correlation between Minimum Temprature and the Extreme weather is 0.09415593643324165\n",
      "The correlation between Maximum Temprature and the Extreme weather is 0.11774287978540127\n",
      "The correlation between Snowfall and the Precipitation is 0.01775313347392745\n"
     ]
    }
   ],
   "source": [
    "print('The correlation between Precipitation and the Extreme weather is', weather['降雨量'].corr(weather['极端天气']))\n",
    "print('The correlation between Snowfall and the Extreme weather is', weather['降雪量'].corr(weather['极端天气']))\n",
    "print('The correlation between Minimum Temprature and the Extreme weather is', weather['最低气温'].corr(weather['极端天气']))\n",
    "print('The correlation between Maximum Temprature and the Extreme weather is', weather['最高气温'].corr(weather['极端天气']))\n",
    "print('The correlation between Snowfall and the Precipitation is', weather['降雪量'].corr(weather['降雨量']))\n"
   ]
  },
  {
   "cell_type": "code",
   "execution_count": null,
   "metadata": {
    "pycharm": {
     "name": "#%%\n",
     "is_executing": true
    }
   },
   "outputs": [],
   "source": [
    "feature_names = ['降雨量','降雨量','最高气温','最低气温']\n",
    "X = weather[feature_names]\n",
    "y = weather['极端天气']\n",
    "cmap = cm.get_cmap('gnuplot')\n",
    "scatter = pd.plotting.scatter_matrix(X, c = np.squeeze(y), marker = 'o', s=40, hist_kwds={'bins':15}, figsize=(9,9), cmap = cmap)\n",
    "\n",
    "plt.suptitle('Scatter-matrix')\n",
    "plt.savefig('weather_scatter_matrix')"
   ]
  }
 ],
 "metadata": {
  "kernelspec": {
   "display_name": "Python 3",
   "language": "python",
   "name": "python3"
  },
  "language_info": {
   "codemirror_mode": {
    "name": "ipython",
    "version": 3
   },
   "file_extension": ".py",
   "mimetype": "text/x-python",
   "name": "python",
   "nbconvert_exporter": "python",
   "pygments_lexer": "ipython3",
   "version": "3.6.9"
  }
 },
 "nbformat": 4,
 "nbformat_minor": 2
}