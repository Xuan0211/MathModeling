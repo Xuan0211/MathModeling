{
 "cells": [
  {
   "cell_type": "code",
   "execution_count": 32,
   "metadata": {
    "pycharm": {
     "name": "#%%\n"
    }
   },
   "outputs": [],
   "source": [
    "# import packages\n",
    "import numpy as np\n",
    "import pandas as pd"
   ]
  },
  {
   "cell_type": "code",
   "execution_count": 33,
   "metadata": {
    "pycharm": {
     "name": "#%%\n"
    }
   },
   "outputs": [
    {
     "name": "stdout",
     "output_type": "stream",
     "text": [
      "<class 'pandas.core.frame.DataFrame'>\n",
      "RangeIndex: 24836 entries, 0 to 24835\n",
      "Data columns (total 24 columns):\n",
      " #   Column  Non-Null Count  Dtype  \n",
      "---  ------  --------------  -----  \n",
      " 0   气象站     24836 non-null  object \n",
      " 1   名称      24836 non-null  object \n",
      " 2   日期      24836 non-null  object \n",
      " 3   降雨量     12325 non-null  float64\n",
      " 4   降雪量     24834 non-null  float64\n",
      " 5   最高气温    22306 non-null  float64\n",
      " 6   最低气温    24826 non-null  float64\n",
      " 7   雾       24825 non-null  float64\n",
      " 8   大雾      8494 non-null   float64\n",
      " 9   雷电      3384 non-null   float64\n",
      " 10  冰丸      895 non-null    float64\n",
      " 11  冰雹      370 non-null    float64\n",
      " 12  薄冰      404 non-null    float64\n",
      " 13  尘雾      727 non-null    float64\n",
      " 14  烟雾      46 non-null     float64\n",
      " 15  风       3260 non-null   float64\n",
      " 16  大风      381 non-null    float64\n",
      " 17  薄雾      13 non-null     object \n",
      " 18  毛毛雨     2563 non-null   float64\n",
      " 19  冻雨      594 non-null    float64\n",
      " 20  雨       103 non-null    float64\n",
      " 21  结冰      7252 non-null   float64\n",
      " 22  下雪      285 non-null    float64\n",
      " 23  冰雾      3081 non-null   float64\n",
      "dtypes: float64(20), object(4)\n",
      "memory usage: 4.5+ MB\n"
     ]
    }
   ],
   "source": [
    "weather = pd.read_csv('weather_data_1950-2018.csv',encoding='GBK')\n",
    "weather.info()"
   ]
  },
  {
   "cell_type": "markdown",
   "source": [
    "## 检查数据"
   ],
   "metadata": {
    "collapsed": false,
    "pycharm": {
     "name": "#%% md\n"
    }
   }
  },
  {
   "cell_type": "code",
   "execution_count": 34,
   "metadata": {
    "pycharm": {
     "name": "#%%\n"
    }
   },
   "outputs": [
    {
     "data": {
      "text/plain": "                    气象站                名称  降雨量   降雪量  最高气温  最低气温     雾   大雾  \\\n日期                                                                            \n1950-01-01  USW00094746  WORCESTER, MA US  NaN  0.00   0.0  40.0  27.0  NaN   \n1950-01-02  USW00094746  WORCESTER, MA US  NaN  0.04   0.0  37.0  28.0  1.0   \n1950-01-03  USW00094746  WORCESTER, MA US  NaN  0.27   0.0  51.0  35.0  1.0   \n1950-01-04  USW00094746  WORCESTER, MA US  NaN  0.00   0.0  60.0  50.0  1.0   \n1950-01-05  USW00094746  WORCESTER, MA US  NaN  0.03   0.0  58.0  41.0  1.0   \n\n            雷电  冰丸  ...  烟雾    风  大风   薄雾  毛毛雨  冻雨   雨   结冰  下雪  冰雾  \n日期                  ...                                              \n1950-01-01 NaN NaN  ... NaN  1.0 NaN       NaN NaN NaN  1.0 NaN NaN  \n1950-01-02 NaN NaN  ... NaN  1.0 NaN  NaN  NaN NaN NaN  1.0 NaN NaN  \n1950-01-03 NaN NaN  ... NaN  NaN NaN  NaN  NaN NaN NaN  1.0 NaN NaN  \n1950-01-04 NaN NaN  ... NaN  NaN NaN  NaN  NaN NaN NaN  1.0 NaN NaN  \n1950-01-05 NaN NaN  ... NaN  NaN NaN  NaN  NaN NaN NaN  1.0 NaN NaN  \n\n[5 rows x 23 columns]",
      "text/html": "<div>\n<style scoped>\n    .dataframe tbody tr th:only-of-type {\n        vertical-align: middle;\n    }\n\n    .dataframe tbody tr th {\n        vertical-align: top;\n    }\n\n    .dataframe thead th {\n        text-align: right;\n    }\n</style>\n<table border=\"1\" class=\"dataframe\">\n  <thead>\n    <tr style=\"text-align: right;\">\n      <th></th>\n      <th>气象站</th>\n      <th>名称</th>\n      <th>降雨量</th>\n      <th>降雪量</th>\n      <th>最高气温</th>\n      <th>最低气温</th>\n      <th>雾</th>\n      <th>大雾</th>\n      <th>雷电</th>\n      <th>冰丸</th>\n      <th>...</th>\n      <th>烟雾</th>\n      <th>风</th>\n      <th>大风</th>\n      <th>薄雾</th>\n      <th>毛毛雨</th>\n      <th>冻雨</th>\n      <th>雨</th>\n      <th>结冰</th>\n      <th>下雪</th>\n      <th>冰雾</th>\n    </tr>\n    <tr>\n      <th>日期</th>\n      <th></th>\n      <th></th>\n      <th></th>\n      <th></th>\n      <th></th>\n      <th></th>\n      <th></th>\n      <th></th>\n      <th></th>\n      <th></th>\n      <th></th>\n      <th></th>\n      <th></th>\n      <th></th>\n      <th></th>\n      <th></th>\n      <th></th>\n      <th></th>\n      <th></th>\n      <th></th>\n      <th></th>\n    </tr>\n  </thead>\n  <tbody>\n    <tr>\n      <th>1950-01-01</th>\n      <td>USW00094746</td>\n      <td>WORCESTER, MA US</td>\n      <td>NaN</td>\n      <td>0.00</td>\n      <td>0.0</td>\n      <td>40.0</td>\n      <td>27.0</td>\n      <td>NaN</td>\n      <td>NaN</td>\n      <td>NaN</td>\n      <td>...</td>\n      <td>NaN</td>\n      <td>1.0</td>\n      <td>NaN</td>\n      <td></td>\n      <td>NaN</td>\n      <td>NaN</td>\n      <td>NaN</td>\n      <td>1.0</td>\n      <td>NaN</td>\n      <td>NaN</td>\n    </tr>\n    <tr>\n      <th>1950-01-02</th>\n      <td>USW00094746</td>\n      <td>WORCESTER, MA US</td>\n      <td>NaN</td>\n      <td>0.04</td>\n      <td>0.0</td>\n      <td>37.0</td>\n      <td>28.0</td>\n      <td>1.0</td>\n      <td>NaN</td>\n      <td>NaN</td>\n      <td>...</td>\n      <td>NaN</td>\n      <td>1.0</td>\n      <td>NaN</td>\n      <td>NaN</td>\n      <td>NaN</td>\n      <td>NaN</td>\n      <td>NaN</td>\n      <td>1.0</td>\n      <td>NaN</td>\n      <td>NaN</td>\n    </tr>\n    <tr>\n      <th>1950-01-03</th>\n      <td>USW00094746</td>\n      <td>WORCESTER, MA US</td>\n      <td>NaN</td>\n      <td>0.27</td>\n      <td>0.0</td>\n      <td>51.0</td>\n      <td>35.0</td>\n      <td>1.0</td>\n      <td>NaN</td>\n      <td>NaN</td>\n      <td>...</td>\n      <td>NaN</td>\n      <td>NaN</td>\n      <td>NaN</td>\n      <td>NaN</td>\n      <td>NaN</td>\n      <td>NaN</td>\n      <td>NaN</td>\n      <td>1.0</td>\n      <td>NaN</td>\n      <td>NaN</td>\n    </tr>\n    <tr>\n      <th>1950-01-04</th>\n      <td>USW00094746</td>\n      <td>WORCESTER, MA US</td>\n      <td>NaN</td>\n      <td>0.00</td>\n      <td>0.0</td>\n      <td>60.0</td>\n      <td>50.0</td>\n      <td>1.0</td>\n      <td>NaN</td>\n      <td>NaN</td>\n      <td>...</td>\n      <td>NaN</td>\n      <td>NaN</td>\n      <td>NaN</td>\n      <td>NaN</td>\n      <td>NaN</td>\n      <td>NaN</td>\n      <td>NaN</td>\n      <td>1.0</td>\n      <td>NaN</td>\n      <td>NaN</td>\n    </tr>\n    <tr>\n      <th>1950-01-05</th>\n      <td>USW00094746</td>\n      <td>WORCESTER, MA US</td>\n      <td>NaN</td>\n      <td>0.03</td>\n      <td>0.0</td>\n      <td>58.0</td>\n      <td>41.0</td>\n      <td>1.0</td>\n      <td>NaN</td>\n      <td>NaN</td>\n      <td>...</td>\n      <td>NaN</td>\n      <td>NaN</td>\n      <td>NaN</td>\n      <td>NaN</td>\n      <td>NaN</td>\n      <td>NaN</td>\n      <td>NaN</td>\n      <td>1.0</td>\n      <td>NaN</td>\n      <td>NaN</td>\n    </tr>\n  </tbody>\n</table>\n<p>5 rows × 23 columns</p>\n</div>"
     },
     "execution_count": 34,
     "metadata": {},
     "output_type": "execute_result"
    }
   ],
   "source": [
    "# 把日期标在索引上\n",
    "weather.set_index('日期', inplace=True)\n",
    "weather.index = pd.to_datetime(weather.index)\n",
    "weather.head()"
   ]
  },
  {
   "cell_type": "code",
   "execution_count": 35,
   "metadata": {
    "pycharm": {
     "name": "#%%\n"
    }
   },
   "outputs": [
    {
     "name": "stdout",
     "output_type": "stream",
     "text": [
      "<class 'pandas.core.frame.DataFrame'>\n",
      "DatetimeIndex: 24836 entries, 1950-01-01 to 2018-01-01\n",
      "Data columns (total 23 columns):\n",
      " #   Column  Non-Null Count  Dtype  \n",
      "---  ------  --------------  -----  \n",
      " 0   气象站     24836 non-null  object \n",
      " 1   名称      24836 non-null  object \n",
      " 2   降雨量     12325 non-null  float64\n",
      " 3   降雪量     24834 non-null  float64\n",
      " 4   最高气温    22306 non-null  float64\n",
      " 5   最低气温    24826 non-null  float64\n",
      " 6   雾       24825 non-null  float64\n",
      " 7   大雾      8494 non-null   float64\n",
      " 8   雷电      3384 non-null   float64\n",
      " 9   冰丸      895 non-null    float64\n",
      " 10  冰雹      370 non-null    float64\n",
      " 11  薄冰      404 non-null    float64\n",
      " 12  尘雾      727 non-null    float64\n",
      " 13  烟雾      46 non-null     float64\n",
      " 14  风       3260 non-null   float64\n",
      " 15  大风      381 non-null    float64\n",
      " 16  薄雾      13 non-null     object \n",
      " 17  毛毛雨     2563 non-null   float64\n",
      " 18  冻雨      594 non-null    float64\n",
      " 19  雨       103 non-null    float64\n",
      " 20  结冰      7252 non-null   float64\n",
      " 21  下雪      285 non-null    float64\n",
      " 22  冰雾      3081 non-null   float64\n",
      "dtypes: float64(20), object(3)\n",
      "memory usage: 4.5+ MB\n"
     ]
    }
   ],
   "source": [
    "weather.info()"
   ]
  },
  {
   "cell_type": "markdown",
   "source": [
    "## 检查缺失数据"
   ],
   "metadata": {
    "collapsed": false,
    "pycharm": {
     "name": "#%% md\n"
    }
   }
  },
  {
   "cell_type": "code",
   "execution_count": 36,
   "metadata": {
    "pycharm": {
     "name": "#%%\n"
    }
   },
   "outputs": [
    {
     "data": {
      "text/plain": "气象站         0\n名称          0\n降雨量     12511\n降雪量         2\n最高气温     2530\n最低气温       10\n雾          11\n大雾      16342\n雷电      21452\n冰丸      23941\n冰雹      24466\n薄冰      24432\n尘雾      24109\n烟雾      24790\n风       21576\n大风      24455\n薄雾      24823\n毛毛雨     22273\n冻雨      24242\n雨       24733\n结冰      17584\n下雪      24551\n冰雾      21755\ndtype: int64"
     },
     "execution_count": 36,
     "metadata": {},
     "output_type": "execute_result"
    }
   ],
   "source": [
    "weather.isnull().sum()"
   ]
  },
  {
   "cell_type": "markdown",
   "source": [
    "## 删除数据缺失太多的行"
   ],
   "metadata": {
    "collapsed": false,
    "pycharm": {
     "name": "#%% md\n"
    }
   }
  },
  {
   "cell_type": "code",
   "execution_count": 37,
   "metadata": {
    "pycharm": {
     "name": "#%%\n"
    }
   },
   "outputs": [
    {
     "data": {
      "text/plain": "                    气象站                名称    降雨量   降雪量  最高气温  最低气温     雾   大雾  \\\n日期                                                                              \n1950-01-01  USW00094746  WORCESTER, MA US    NaN  0.00   0.0  40.0  27.0  NaN   \n1950-01-02  USW00094746  WORCESTER, MA US    NaN  0.04   0.0  37.0  28.0  1.0   \n1950-01-03  USW00094746  WORCESTER, MA US    NaN  0.27   0.0  51.0  35.0  1.0   \n1950-01-04  USW00094746  WORCESTER, MA US    NaN  0.00   0.0  60.0  50.0  1.0   \n1950-01-05  USW00094746  WORCESTER, MA US    NaN  0.03   0.0  58.0  41.0  1.0   \n...                 ...               ...    ...   ...   ...   ...   ...  ...   \n2017-12-28  USW00094746  WORCESTER, MA US  17.67  0.00   0.0   7.0   0.0  NaN   \n2017-12-29  USW00094746  WORCESTER, MA US  12.08  0.00   0.0   8.0  -3.0  NaN   \n2017-12-30  USW00094746  WORCESTER, MA US   9.62  0.06   0.6  13.0   1.0  NaN   \n2017-12-31  USW00094746  WORCESTER, MA US  14.32  0.00   0.0  10.0  -2.0  NaN   \n2018-01-01  USW00094746  WORCESTER, MA US  13.42  0.00   0.0   8.0  -5.0  NaN   \n\n            雷电  冰丸  ...  烟雾    风  大风   薄雾  毛毛雨  冻雨   雨   结冰  下雪  冰雾  \n日期                  ...                                              \n1950-01-01 NaN NaN  ... NaN  1.0 NaN       NaN NaN NaN  1.0 NaN NaN  \n1950-01-02 NaN NaN  ... NaN  1.0 NaN  NaN  NaN NaN NaN  1.0 NaN NaN  \n1950-01-03 NaN NaN  ... NaN  NaN NaN  NaN  NaN NaN NaN  1.0 NaN NaN  \n1950-01-04 NaN NaN  ... NaN  NaN NaN  NaN  NaN NaN NaN  1.0 NaN NaN  \n1950-01-05 NaN NaN  ... NaN  NaN NaN  NaN  NaN NaN NaN  1.0 NaN NaN  \n...         ..  ..  ...  ..  ...  ..  ...  ...  ..  ..  ...  ..  ..  \n2017-12-28 NaN NaN  ... NaN  NaN NaN  NaN  NaN NaN NaN  NaN NaN NaN  \n2017-12-29 NaN NaN  ... NaN  NaN NaN  NaN  NaN NaN NaN  NaN NaN NaN  \n2017-12-30 NaN NaN  ... NaN  NaN NaN  NaN  NaN NaN NaN  NaN NaN NaN  \n2017-12-31 NaN NaN  ... NaN  NaN NaN  NaN  NaN NaN NaN  NaN NaN NaN  \n2018-01-01 NaN NaN  ... NaN  NaN NaN  NaN  NaN NaN NaN  NaN NaN NaN  \n\n[20198 rows x 23 columns]",
      "text/html": "<div>\n<style scoped>\n    .dataframe tbody tr th:only-of-type {\n        vertical-align: middle;\n    }\n\n    .dataframe tbody tr th {\n        vertical-align: top;\n    }\n\n    .dataframe thead th {\n        text-align: right;\n    }\n</style>\n<table border=\"1\" class=\"dataframe\">\n  <thead>\n    <tr style=\"text-align: right;\">\n      <th></th>\n      <th>气象站</th>\n      <th>名称</th>\n      <th>降雨量</th>\n      <th>降雪量</th>\n      <th>最高气温</th>\n      <th>最低气温</th>\n      <th>雾</th>\n      <th>大雾</th>\n      <th>雷电</th>\n      <th>冰丸</th>\n      <th>...</th>\n      <th>烟雾</th>\n      <th>风</th>\n      <th>大风</th>\n      <th>薄雾</th>\n      <th>毛毛雨</th>\n      <th>冻雨</th>\n      <th>雨</th>\n      <th>结冰</th>\n      <th>下雪</th>\n      <th>冰雾</th>\n    </tr>\n    <tr>\n      <th>日期</th>\n      <th></th>\n      <th></th>\n      <th></th>\n      <th></th>\n      <th></th>\n      <th></th>\n      <th></th>\n      <th></th>\n      <th></th>\n      <th></th>\n      <th></th>\n      <th></th>\n      <th></th>\n      <th></th>\n      <th></th>\n      <th></th>\n      <th></th>\n      <th></th>\n      <th></th>\n      <th></th>\n      <th></th>\n    </tr>\n  </thead>\n  <tbody>\n    <tr>\n      <th>1950-01-01</th>\n      <td>USW00094746</td>\n      <td>WORCESTER, MA US</td>\n      <td>NaN</td>\n      <td>0.00</td>\n      <td>0.0</td>\n      <td>40.0</td>\n      <td>27.0</td>\n      <td>NaN</td>\n      <td>NaN</td>\n      <td>NaN</td>\n      <td>...</td>\n      <td>NaN</td>\n      <td>1.0</td>\n      <td>NaN</td>\n      <td></td>\n      <td>NaN</td>\n      <td>NaN</td>\n      <td>NaN</td>\n      <td>1.0</td>\n      <td>NaN</td>\n      <td>NaN</td>\n    </tr>\n    <tr>\n      <th>1950-01-02</th>\n      <td>USW00094746</td>\n      <td>WORCESTER, MA US</td>\n      <td>NaN</td>\n      <td>0.04</td>\n      <td>0.0</td>\n      <td>37.0</td>\n      <td>28.0</td>\n      <td>1.0</td>\n      <td>NaN</td>\n      <td>NaN</td>\n      <td>...</td>\n      <td>NaN</td>\n      <td>1.0</td>\n      <td>NaN</td>\n      <td>NaN</td>\n      <td>NaN</td>\n      <td>NaN</td>\n      <td>NaN</td>\n      <td>1.0</td>\n      <td>NaN</td>\n      <td>NaN</td>\n    </tr>\n    <tr>\n      <th>1950-01-03</th>\n      <td>USW00094746</td>\n      <td>WORCESTER, MA US</td>\n      <td>NaN</td>\n      <td>0.27</td>\n      <td>0.0</td>\n      <td>51.0</td>\n      <td>35.0</td>\n      <td>1.0</td>\n      <td>NaN</td>\n      <td>NaN</td>\n      <td>...</td>\n      <td>NaN</td>\n      <td>NaN</td>\n      <td>NaN</td>\n      <td>NaN</td>\n      <td>NaN</td>\n      <td>NaN</td>\n      <td>NaN</td>\n      <td>1.0</td>\n      <td>NaN</td>\n      <td>NaN</td>\n    </tr>\n    <tr>\n      <th>1950-01-04</th>\n      <td>USW00094746</td>\n      <td>WORCESTER, MA US</td>\n      <td>NaN</td>\n      <td>0.00</td>\n      <td>0.0</td>\n      <td>60.0</td>\n      <td>50.0</td>\n      <td>1.0</td>\n      <td>NaN</td>\n      <td>NaN</td>\n      <td>...</td>\n      <td>NaN</td>\n      <td>NaN</td>\n      <td>NaN</td>\n      <td>NaN</td>\n      <td>NaN</td>\n      <td>NaN</td>\n      <td>NaN</td>\n      <td>1.0</td>\n      <td>NaN</td>\n      <td>NaN</td>\n    </tr>\n    <tr>\n      <th>1950-01-05</th>\n      <td>USW00094746</td>\n      <td>WORCESTER, MA US</td>\n      <td>NaN</td>\n      <td>0.03</td>\n      <td>0.0</td>\n      <td>58.0</td>\n      <td>41.0</td>\n      <td>1.0</td>\n      <td>NaN</td>\n      <td>NaN</td>\n      <td>...</td>\n      <td>NaN</td>\n      <td>NaN</td>\n      <td>NaN</td>\n      <td>NaN</td>\n      <td>NaN</td>\n      <td>NaN</td>\n      <td>NaN</td>\n      <td>1.0</td>\n      <td>NaN</td>\n      <td>NaN</td>\n    </tr>\n    <tr>\n      <th>...</th>\n      <td>...</td>\n      <td>...</td>\n      <td>...</td>\n      <td>...</td>\n      <td>...</td>\n      <td>...</td>\n      <td>...</td>\n      <td>...</td>\n      <td>...</td>\n      <td>...</td>\n      <td>...</td>\n      <td>...</td>\n      <td>...</td>\n      <td>...</td>\n      <td>...</td>\n      <td>...</td>\n      <td>...</td>\n      <td>...</td>\n      <td>...</td>\n      <td>...</td>\n      <td>...</td>\n    </tr>\n    <tr>\n      <th>2017-12-28</th>\n      <td>USW00094746</td>\n      <td>WORCESTER, MA US</td>\n      <td>17.67</td>\n      <td>0.00</td>\n      <td>0.0</td>\n      <td>7.0</td>\n      <td>0.0</td>\n      <td>NaN</td>\n      <td>NaN</td>\n      <td>NaN</td>\n      <td>...</td>\n      <td>NaN</td>\n      <td>NaN</td>\n      <td>NaN</td>\n      <td>NaN</td>\n      <td>NaN</td>\n      <td>NaN</td>\n      <td>NaN</td>\n      <td>NaN</td>\n      <td>NaN</td>\n      <td>NaN</td>\n    </tr>\n    <tr>\n      <th>2017-12-29</th>\n      <td>USW00094746</td>\n      <td>WORCESTER, MA US</td>\n      <td>12.08</td>\n      <td>0.00</td>\n      <td>0.0</td>\n      <td>8.0</td>\n      <td>-3.0</td>\n      <td>NaN</td>\n      <td>NaN</td>\n      <td>NaN</td>\n      <td>...</td>\n      <td>NaN</td>\n      <td>NaN</td>\n      <td>NaN</td>\n      <td>NaN</td>\n      <td>NaN</td>\n      <td>NaN</td>\n      <td>NaN</td>\n      <td>NaN</td>\n      <td>NaN</td>\n      <td>NaN</td>\n    </tr>\n    <tr>\n      <th>2017-12-30</th>\n      <td>USW00094746</td>\n      <td>WORCESTER, MA US</td>\n      <td>9.62</td>\n      <td>0.06</td>\n      <td>0.6</td>\n      <td>13.0</td>\n      <td>1.0</td>\n      <td>NaN</td>\n      <td>NaN</td>\n      <td>NaN</td>\n      <td>...</td>\n      <td>NaN</td>\n      <td>NaN</td>\n      <td>NaN</td>\n      <td>NaN</td>\n      <td>NaN</td>\n      <td>NaN</td>\n      <td>NaN</td>\n      <td>NaN</td>\n      <td>NaN</td>\n      <td>NaN</td>\n    </tr>\n    <tr>\n      <th>2017-12-31</th>\n      <td>USW00094746</td>\n      <td>WORCESTER, MA US</td>\n      <td>14.32</td>\n      <td>0.00</td>\n      <td>0.0</td>\n      <td>10.0</td>\n      <td>-2.0</td>\n      <td>NaN</td>\n      <td>NaN</td>\n      <td>NaN</td>\n      <td>...</td>\n      <td>NaN</td>\n      <td>NaN</td>\n      <td>NaN</td>\n      <td>NaN</td>\n      <td>NaN</td>\n      <td>NaN</td>\n      <td>NaN</td>\n      <td>NaN</td>\n      <td>NaN</td>\n      <td>NaN</td>\n    </tr>\n    <tr>\n      <th>2018-01-01</th>\n      <td>USW00094746</td>\n      <td>WORCESTER, MA US</td>\n      <td>13.42</td>\n      <td>0.00</td>\n      <td>0.0</td>\n      <td>8.0</td>\n      <td>-5.0</td>\n      <td>NaN</td>\n      <td>NaN</td>\n      <td>NaN</td>\n      <td>...</td>\n      <td>NaN</td>\n      <td>NaN</td>\n      <td>NaN</td>\n      <td>NaN</td>\n      <td>NaN</td>\n      <td>NaN</td>\n      <td>NaN</td>\n      <td>NaN</td>\n      <td>NaN</td>\n      <td>NaN</td>\n    </tr>\n  </tbody>\n</table>\n<p>20198 rows × 23 columns</p>\n</div>"
     },
     "execution_count": 37,
     "metadata": {},
     "output_type": "execute_result"
    }
   ],
   "source": [
    "dropThis = pd.date_range('1978-04-01','1984-01-01')\n",
    "weather = weather[~weather.index.isin(dropThis)]\n",
    "weather.dropna(subset = ['降雪量','最高气温','最低气温'])"
   ]
  },
  {
   "cell_type": "markdown",
   "source": [
    "## 再次检查并把空行赋值为0"
   ],
   "metadata": {
    "collapsed": false,
    "pycharm": {
     "name": "#%% md\n"
    }
   }
  },
  {
   "cell_type": "code",
   "execution_count": 38,
   "metadata": {
    "pycharm": {
     "name": "#%%\n"
    }
   },
   "outputs": [
    {
     "data": {
      "text/plain": "气象站         0\n名称          0\n降雨量     10410\n降雪量         2\n最高气温     2530\n最低气温       10\n雾          11\n大雾      14240\n雷电      19350\n冰丸      21839\n冰雹      22364\n薄冰      22330\n尘雾      22007\n烟雾      22688\n风       19474\n大风      22353\n薄雾      22721\n毛毛雨     20171\n冻雨      22140\n雨       22631\n结冰      15482\n下雪      22449\n冰雾      19653\ndtype: int64"
     },
     "execution_count": 38,
     "metadata": {},
     "output_type": "execute_result"
    }
   ],
   "source": [
    "weather.isnull().sum()"
   ]
  },
  {
   "cell_type": "code",
   "execution_count": 39,
   "metadata": {
    "pycharm": {
     "name": "#%%\n"
    }
   },
   "outputs": [
    {
     "data": {
      "text/plain": "气象站     0\n名称      0\n降雨量     0\n降雪量     0\n最高气温    0\n最低气温    0\n雾       0\n大雾      0\n雷电      0\n冰丸      0\n冰雹      0\n薄冰      0\n尘雾      0\n烟雾      0\n风       0\n大风      0\n薄雾      0\n毛毛雨     0\n冻雨      0\n雨       0\n结冰      0\n下雪      0\n冰雾      0\ndtype: int64"
     },
     "execution_count": 39,
     "metadata": {},
     "output_type": "execute_result"
    }
   ],
   "source": [
    "weather.fillna(value = 0, inplace = True)\n",
    "weather.isnull().sum()"
   ]
  },
  {
   "cell_type": "markdown",
   "source": [
    "## 将大雾，雷电，冰雹，大风，结冰，下雪，冰丸认定为极端天气，并赋值将当天的\"极端天气\"变量赋值为1，否则赋值为0。"
   ],
   "metadata": {
    "collapsed": false,
    "pycharm": {
     "name": "#%% md\n"
    }
   }
  },
  {
   "cell_type": "code",
   "execution_count": 40,
   "metadata": {
    "pycharm": {
     "name": "#%%\n"
    }
   },
   "outputs": [],
   "source": [
    "def extreme(df):\n",
    "    if df['大雾'] == 1 or df['雷电'] == 1 or df['冰雹'] == 1 or df['大风'] == 1 or df['结冰'] == 1 or df['下雪'] == 1 or df['冰丸'] == 1:\n",
    "        return 1\n",
    "    else:\n",
    "        return 0\n",
    "weather['极端天气'] = weather.apply(extreme, axis=1)"
   ]
  },
  {
   "cell_type": "code",
   "execution_count": 41,
   "metadata": {
    "pycharm": {
     "name": "#%%\n"
    }
   },
   "outputs": [],
   "source": [
    "weather.to_csv('weather_data_1960-2018_cleaned.csv')"
   ]
  },
  {
   "cell_type": "code",
   "execution_count": 41,
   "metadata": {
    "pycharm": {
     "name": "#%%\n"
    }
   },
   "outputs": [],
   "source": []
  }
 ],
 "metadata": {
  "kernelspec": {
   "display_name": "Python 3",
   "language": "python",
   "name": "python3"
  },
  "language_info": {
   "codemirror_mode": {
    "name": "ipython",
    "version": 3
   },
   "file_extension": ".py",
   "mimetype": "text/x-python",
   "name": "python",
   "nbconvert_exporter": "python",
   "pygments_lexer": "ipython3",
   "version": "3.6.9"
  }
 },
 "nbformat": 4,
 "nbformat_minor": 2
}